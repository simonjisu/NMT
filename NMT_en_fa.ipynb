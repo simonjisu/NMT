{
 "cells": [
  {
   "cell_type": "markdown",
   "metadata": {},
   "source": [
    "# \"NMT by Jointly Learning to Align and Translate\" Implementation\n",
    "\n",
    "original paper: https://arxiv.org/abs/1409.0473"
   ]
  },
  {
   "cell_type": "code",
   "execution_count": 1,
   "metadata": {},
   "outputs": [],
   "source": [
    "# torch\n",
    "import torch\n",
    "import torch.nn as nn\n",
    "import torch.optim as optim\n",
    "import torch.nn.functional as F\n",
    "from torchtext.data import Field, Iterator, BucketIterator, TabularDataset\n",
    "from torch.nn.utils.rnn import pack_padded_sequence, pad_packed_sequence\n",
    "from torchnlp.metrics import get_moses_multi_bleu\n",
    "\n",
    "from decoder import Decoder\n",
    "from encoder import Encoder\n",
    "from attention import Attention\n",
    "# others\n",
    "import argparse\n",
    "from NMTutils import get_parser, build_data, get_model_config, evaluation\n",
    "import random\n",
    "import numpy as np\n",
    "import matplotlib.pyplot as plt\n",
    "import matplotlib.ticker as ticker\n",
    "from collections import defaultdict"
   ]
  },
  {
   "cell_type": "code",
   "execution_count": 2,
   "metadata": {},
   "outputs": [],
   "source": [
    "# USE_CUDA = torch.cuda.is_available()\n",
    "# DEVICE = torch.cuda.current_device()\n",
    "USE_CUDA = False\n",
    "DEVICE = -1"
   ]
  },
  {
   "cell_type": "markdown",
   "metadata": {},
   "source": [
    "## Prepare Loader"
   ]
  },
  {
   "cell_type": "code",
   "execution_count": 4,
   "metadata": {},
   "outputs": [],
   "source": [
    "lang1 = 'eng'\n",
    "lang2 = 'fra'\n",
    "modelcode_small = ['111301', '111311', '111301', '111311', '111311', \n",
    "                  '111311', '111311', '122421', '122521', '122621',\n",
    "                  '122622', '222421', '222521', '222421']\n",
    "modelcode_filtered = ['322521', '322421']\n",
    "\n",
    "model_idx = 1\n",
    "config, test_data, test_loader, SOURCE, TARGET = get_model_config(modelcode_small[model_idx-1], lang1, lang2,\n",
    "                                                                 device=DEVICE)"
   ]
  },
  {
   "cell_type": "code",
   "execution_count": 5,
   "metadata": {},
   "outputs": [],
   "source": [
    "def get_source_reference(data, filter_num=1):\n",
    "    temp = defaultdict(list)\n",
    "    for d in data.examples:\n",
    "        src = ' '.join(d.so)\n",
    "        tar = ' '.join(d.ta)\n",
    "        temp[src].append(tar)\n",
    "    \n",
    "    temp = {k: v for k, v in temp.items() if len(v) >= filter_num}\n",
    "    return temp"
   ]
  },
  {
   "cell_type": "code",
   "execution_count": 6,
   "metadata": {},
   "outputs": [],
   "source": [
    "so_ref_dict = get_source_reference(test_data, filter_num=1)"
   ]
  },
  {
   "cell_type": "code",
   "execution_count": 8,
   "metadata": {},
   "outputs": [
    {
     "data": {
      "text/plain": [
       "('i have just eaten lunch .', ['je viens juste de finir de dejeuner .'])"
      ]
     },
     "execution_count": 8,
     "metadata": {},
     "output_type": "execute_result"
    }
   ],
   "source": [
    "x = list(so_ref_dict.items())\n",
    "x[0]"
   ]
  },
  {
   "cell_type": "code",
   "execution_count": 9,
   "metadata": {},
   "outputs": [
    {
     "data": {
      "text/plain": [
       "0.0"
      ]
     },
     "execution_count": 9,
     "metadata": {},
     "output_type": "execute_result"
    }
   ],
   "source": [
    "hypotheses = ['je viens juste le finir le dejeuner .']\n",
    "references = x[0][1]\n",
    "get_moses_multi_bleu(hypotheses, references, lowercase=True)"
   ]
  },
  {
   "cell_type": "code",
   "execution_count": 7,
   "metadata": {},
   "outputs": [],
   "source": [
    "def get_word_counts(lang):\n",
    "    words_count = []\n",
    "    for k, v in lang.vocab.freqs.items():\n",
    "        words_count.append((k, v))\n",
    "    words_count = sorted(words_count, key=lambda x: x[1], reverse=True)\n",
    "    return words_count"
   ]
  },
  {
   "cell_type": "code",
   "execution_count": 8,
   "metadata": {},
   "outputs": [],
   "source": [
    "def plot_word_counts(counts):\n",
    "    x, y = zip(*counts)\n",
    "    idxes = np.arange(1, len(counts)+1)\n",
    "    print(\"top 10 words: {}\".format(x[:10]))\n",
    "    plt.bar(idxes, np.log(np.array(y)+1), 1)\n",
    "    plt.show()"
   ]
  },
  {
   "cell_type": "code",
   "execution_count": 7,
   "metadata": {},
   "outputs": [
    {
     "name": "stdout",
     "output_type": "stream",
     "text": [
      "top 10 words: ('.', 'i', 'you', '?', 'a', 'it', 'is', 's', 't', 'the')\n"
     ]
    },
    {
     "data": {
      "image/png": "[encoded data removed]",
      "text/plain": [
       "<Figure size 432x288 with 1 Axes>"
      ]
     },
     "metadata": {},
     "output_type": "display_data"
    }
   ],
   "source": [
    "source_words_count = get_word_counts(SOURCE)\n",
    "plot_word_counts(source_words_count)"
   ]
  },
  {
   "cell_type": "code",
   "execution_count": 8,
   "metadata": {},
   "outputs": [
    {
     "name": "stdout",
     "output_type": "stream",
     "text": [
      "top 10 words: ('.', 'je', '?', 'est', 'vous', 'a', 'pas', 'il', 'de', 'ne')\n"
     ]
    },
    {
     "data": {
      "image/png": "[encoded data removed]",
      "text/plain": [
       "<Figure size 432x288 with 1 Axes>"
      ]
     },
     "metadata": {},
     "output_type": "display_data"
    }
   ],
   "source": [
    "source_words_count = get_word_counts(TARGET)\n",
    "plot_word_counts(source_words_count)"
   ]
  },
  {
   "cell_type": "markdown",
   "metadata": {},
   "source": [
    "## architecture"
   ]
  },
  {
   "cell_type": "markdown",
   "metadata": {},
   "source": [
    "![](./pics/encoder_decoder_att.png)"
   ]
  },
  {
   "cell_type": "markdown",
   "metadata": {},
   "source": [
    "---"
   ]
  },
  {
   "cell_type": "markdown",
   "metadata": {},
   "source": [
    "## Build Networks"
   ]
  },
  {
   "cell_type": "code",
   "execution_count": 7,
   "metadata": {},
   "outputs": [
    {
     "data": {
      "text/plain": [
       "1"
      ]
     },
     "execution_count": 7,
     "metadata": {},
     "output_type": "execute_result"
    }
   ],
   "source": [
    "model_idx"
   ]
  },
  {
   "cell_type": "code",
   "execution_count": null,
   "metadata": {},
   "outputs": [],
   "source": [
    "enc, dec, loss_function, test_loader, _ = build_model(model_idx, modelcode_small[model_idx-1], lang1, lang2, \n",
    "                                                      file_path='./data/en_fa/', file_type='small')"
   ]
  },
  {
   "cell_type": "code",
   "execution_count": 15,
   "metadata": {},
   "outputs": [
    {
     "ename": "NameError",
     "evalue": "name 'enc' is not defined",
     "output_type": "error",
     "traceback": [
      "\u001b[0;31m---------------------------------------------------------------------------\u001b[0m",
      "\u001b[0;31mNameError\u001b[0m                                 Traceback (most recent call last)",
      "\u001b[0;32m<ipython-input-15-f48dd1ab73a9>\u001b[0m in \u001b[0;36m<module>\u001b[0;34m()\u001b[0m\n\u001b[1;32m      3\u001b[0m     \u001b[0mtargets\u001b[0m \u001b[0;34m=\u001b[0m \u001b[0mbatch\u001b[0m\u001b[0;34m.\u001b[0m\u001b[0mta\u001b[0m\u001b[0;34m\u001b[0m\u001b[0m\n\u001b[1;32m      4\u001b[0m \u001b[0;34m\u001b[0m\u001b[0m\n\u001b[0;32m----> 5\u001b[0;31m     \u001b[0moutput\u001b[0m\u001b[0;34m,\u001b[0m \u001b[0mhidden\u001b[0m \u001b[0;34m=\u001b[0m \u001b[0menc\u001b[0m\u001b[0;34m(\u001b[0m\u001b[0minputs\u001b[0m\u001b[0;34m,\u001b[0m \u001b[0mlengths\u001b[0m\u001b[0;34m.\u001b[0m\u001b[0mtolist\u001b[0m\u001b[0;34m(\u001b[0m\u001b[0;34m)\u001b[0m\u001b[0;34m)\u001b[0m\u001b[0;34m\u001b[0m\u001b[0m\n\u001b[0m\u001b[1;32m      6\u001b[0m     \u001b[0mpreds\u001b[0m\u001b[0;34m,\u001b[0m \u001b[0m_\u001b[0m \u001b[0;34m=\u001b[0m \u001b[0mdec\u001b[0m\u001b[0;34m(\u001b[0m\u001b[0mhidden\u001b[0m\u001b[0;34m,\u001b[0m \u001b[0moutput\u001b[0m\u001b[0;34m,\u001b[0m \u001b[0mlengths\u001b[0m\u001b[0;34m.\u001b[0m\u001b[0mtolist\u001b[0m\u001b[0;34m(\u001b[0m\u001b[0;34m)\u001b[0m\u001b[0;34m,\u001b[0m \u001b[0mtargets\u001b[0m\u001b[0;34m.\u001b[0m\u001b[0msize\u001b[0m\u001b[0;34m(\u001b[0m\u001b[0;36m1\u001b[0m\u001b[0;34m)\u001b[0m\u001b[0;34m)\u001b[0m \u001b[0;31m# max_len\u001b[0m\u001b[0;34m\u001b[0m\u001b[0m\n",
      "\u001b[0;31mNameError\u001b[0m: name 'enc' is not defined"
     ]
    }
   ],
   "source": [
    "for i, batch in enumerate(test_loader):\n",
    "    inputs, lengths = batch.so\n",
    "    targets = batch.ta\n",
    "    \n",
    "    output, hidden = enc(inputs, lengths.tolist())\n",
    "    preds, _ = dec(hidden, output, lengths.tolist(), targets.size(1)) # max_len\n",
    "    break"
   ]
  },
  {
   "cell_type": "code",
   "execution_count": null,
   "metadata": {},
   "outputs": [],
   "source": [
    "def evaluation_bleu(enc, dec, so_ref_dict, loader):\n",
    "    enc.eval()\n",
    "    dec.eval()\n",
    "    bleu_scores = []\n",
    "\n",
    "    for i, batch in enumerate(loader):\n",
    "        inputs, lengths = batch.so\n",
    "        targets = batch.ta\n",
    "\n",
    "        output, hidden = enc(inputs, lengths.tolist())\n",
    "        preds, _ = dec(hidden, output, lengths.tolist(), targets.size(1)) # max_len\n",
    "\n",
    "        loss = loss_function(preds, targets.view(-1))\n",
    "        valid_losses.append(loss.item())\n",
    "            \n",
    "    return valid_losses"
   ]
  },
  {
   "cell_type": "code",
   "execution_count": 9,
   "metadata": {},
   "outputs": [],
   "source": [
    "def build(config, SOURCE, TARGET):\n",
    "    enc = Encoder(len(SOURCE.vocab), config.EMBED, config.HIDDEN, config.NUM_HIDDEN, bidrec=True)\n",
    "    dec = Decoder(len(TARGET.vocab), config.EMBED, 2*config.HIDDEN, hidden_size2=config.HIDDEN2, \\\n",
    "                  sos_idx=SOURCE.vocab.stoi['<s>'], method=config.METHOD, USE_CUDA=USE_CUDA)\n",
    "    if USE_CUDA:\n",
    "        enc = enc.cuda()\n",
    "        dec = dec.cuda()\n",
    "\n",
    "    loss_function = nn.CrossEntropyLoss(ignore_index=TARGET.vocab.stoi['<pad>'])\n",
    "    return enc, dec, loss_function"
   ]
  },
  {
   "cell_type": "code",
   "execution_count": 10,
   "metadata": {},
   "outputs": [],
   "source": [
    "def build_model(model_idx, code, lang1, lang2, file_path='./data/en_fa/', file_type='small', device=-1):\n",
    "    config, test_data, test_loader, SOURCE, TARGET = get_model_config(code, lang1, lang2, device=device,\n",
    "                                                                      file_path=file_path, file_type=file_type)\n",
    "    enc, dec, loss_function = build(config, SOURCE, TARGET)\n",
    "    enc.eval()\n",
    "    dec.eval()\n",
    "    \n",
    "    enc_model_path = './data/model/{0}_{1}/{0}-{1}{2}.enc'.format(lang1, lang2, model_idx)\n",
    "    dec_model_path = './data/model/{0}_{1}/{0}-{1}{2}.dec'.format(lang1, lang2, model_idx)\n",
    "    enc.load_state_dict(torch.load(enc_model_path))\n",
    "    dec.load_state_dict(torch.load(dec_model_path))\n",
    "    return enc, dec, loss_function, test_loader, test_data"
   ]
  },
  {
   "cell_type": "markdown",
   "metadata": {},
   "source": [
    "## Load model parameters & test"
   ]
  },
  {
   "cell_type": "markdown",
   "metadata": {},
   "source": [
    "It's not proper way using \"cross entropy loss\" to measure translation is translated well. Better use BLEU score. Lefted `To do` in the future."
   ]
  },
  {
   "cell_type": "code",
   "execution_count": 11,
   "metadata": {},
   "outputs": [
    {
     "name": "stdout",
     "output_type": "stream",
     "text": [
      "model 1 | test_losses: 3.36296660900116\n",
      "model 2 | test_losses: 2.861001229286194\n",
      "model 3 | test_losses: 2.1414837181568145\n",
      "model 4 | test_losses: 2.0284644186496736\n",
      "model 5 | test_losses: 2.00683012008667\n",
      "model 6 | test_losses: 1.96327902674675\n",
      "model 7 | test_losses: 1.9139957845211029\n",
      "model 8 | test_losses: 2.05319704413414\n",
      "model 9 | test_losses: 2.1222559452056884\n",
      "model 10 | test_losses: 2.9495986819267275\n",
      "model 11 | test_losses: 2.034853482246399\n",
      "model 12 | test_losses: 2.0189727544784546\n",
      "model 13 | test_losses: 2.2303336381912233\n",
      "model 14 | test_losses: 2.2022975087165833\n"
     ]
    }
   ],
   "source": [
    "for i, code in enumerate(modelcode_small, 1):\n",
    "    enc, dec, loss_function, test_loader, _ = build_model(code, lang1, lang2, \n",
    "                                                           file_path='./data/en_fa/', file_type='small')\n",
    "    \n",
    "    test_losses = evaluation(enc, dec, loss_function, loader=test_loader)\n",
    "    print('model {} | test_losses: {}'.format(i, np.mean(test_losses)))"
   ]
  },
  {
   "cell_type": "code",
   "execution_count": 13,
   "metadata": {},
   "outputs": [
    {
     "name": "stdout",
     "output_type": "stream",
     "text": [
      "model 15 | test_losses: 2.2322555065155028\n",
      "model 16 | test_losses: 2.2234701037406923\n"
     ]
    }
   ],
   "source": [
    "for i, code in enumerate(modelcode_filtered, 15):\n",
    "    enc, dec, loss_function, test_loader, _ = build_model(code, lang1, lang2, \n",
    "                                                           file_path='./data/en_fa/', file_type='filtered')\n",
    "    \n",
    "    test_losses = evaluation(enc, dec, loss_function, loader=test_loader)\n",
    "    print('model {} | test_losses: {}'.format(i, np.mean(test_losses)))"
   ]
  },
  {
   "cell_type": "markdown",
   "metadata": {},
   "source": [
    "## Visualize Attention"
   ]
  },
  {
   "cell_type": "code",
   "execution_count": 14,
   "metadata": {},
   "outputs": [],
   "source": [
    "# borrowed code from https://github.com/spro/practical-pytorch/blob/master/seq2seq-translation/seq2seq-translation-batched.ipynb\n",
    "\n",
    "def show_attention(input_words, output_words, attentions):\n",
    "    # Set up figure with colorbar\n",
    "    fig = plt.figure()\n",
    "    ax = fig.add_subplot(111)\n",
    "    cax = ax.matshow(attentions.numpy(), cmap='bone')\n",
    "    fig.colorbar(cax)\n",
    "\n",
    "    # Set up axes\n",
    "    ax.set_xticklabels([''] + input_words, rotation=90)\n",
    "    ax.set_yticklabels([''] + output_words)\n",
    "\n",
    "    # Show label at every tick\n",
    "    ax.xaxis.set_major_locator(ticker.MultipleLocator(1))\n",
    "    ax.yaxis.set_major_locator(ticker.MultipleLocator(1))\n",
    "\n",
    "#     show_plot_visdom()\n",
    "    plt.show()\n",
    "    plt.close()"
   ]
  },
  {
   "cell_type": "code",
   "execution_count": null,
   "metadata": {},
   "outputs": [],
   "source": []
  },
  {
   "cell_type": "code",
   "execution_count": 18,
   "metadata": {
    "scrolled": false
   },
   "outputs": [
    {
     "name": "stdout",
     "output_type": "stream",
     "text": [
      "======== Model 1 ========\n",
      "Source :  i won t stay here alone .\n",
      "Truth :  je ne resterai pas ici seul .\n",
      "Prediction :  je ne vais pas pas seul .\n"
     ]
    },
    {
     "data": {
      "image/png": "[encoded data removed]",
      "text/plain": [
       "<Figure size 432x288 with 2 Axes>"
      ]
     },
     "metadata": {},
     "output_type": "display_data"
    },
    {
     "name": "stdout",
     "output_type": "stream",
     "text": [
      "======== Model 2 ========\n",
      "Source :  i won t stay here alone .\n",
      "Truth :  je ne resterai pas ici seul .\n",
      "Prediction :  je ne vais pas pas ici seul .\n"
     ]
    },
    {
     "data": {
      "image/png": "[encoded data removed]",
      "text/plain": [
       "<Figure size 432x288 with 2 Axes>"
      ]
     },
     "metadata": {},
     "output_type": "display_data"
    },
    {
     "name": "stdout",
     "output_type": "stream",
     "text": [
      "======== Model 3 ========\n",
      "Source :  i won t stay here alone .\n",
      "Truth :  je ne resterai pas ici seul .\n",
      "Prediction :  je ne ne pas ici ici .\n"
     ]
    },
    {
     "data": {
      "image/png": "[encoded data removed]",
      "text/plain": [
       "<Figure size 432x288 with 2 Axes>"
      ]
     },
     "metadata": {},
     "output_type": "display_data"
    },
    {
     "name": "stdout",
     "output_type": "stream",
     "text": [
      "======== Model 4 ========\n",
      "Source :  i won t stay here alone .\n",
      "Truth :  je ne resterai pas ici seul .\n",
      "Prediction :  je ne rester pas ici .\n"
     ]
    },
    {
     "data": {
      "image/png": "[encoded data removed]",
      "text/plain": [
       "<Figure size 432x288 with 2 Axes>"
      ]
     },
     "metadata": {},
     "output_type": "display_data"
    },
    {
     "name": "stdout",
     "output_type": "stream",
     "text": [
      "======== Model 5 ========\n",
      "Source :  i won t stay here alone .\n",
      "Truth :  je ne resterai pas ici seul .\n",
      "Prediction :  je ne vais pas ici ici .\n"
     ]
    },
    {
     "data": {
      "image/png": "[encoded data removed]",
      "text/plain": [
       "<Figure size 432x288 with 2 Axes>"
      ]
     },
     "metadata": {},
     "output_type": "display_data"
    },
    {
     "name": "stdout",
     "output_type": "stream",
     "text": [
      "======== Model 6 ========\n",
      "Source :  i won t stay here alone .\n",
      "Truth :  je ne resterai pas ici seul .\n",
      "Prediction :  je ne vais pas pas ici .\n"
     ]
    },
    {
     "data": {
      "image/png": "[encoded data removed]",
      "text/plain": [
       "<Figure size 432x288 with 2 Axes>"
      ]
     },
     "metadata": {},
     "output_type": "display_data"
    },
    {
     "name": "stdout",
     "output_type": "stream",
     "text": [
      "======== Model 7 ========\n",
      "Source :  i won t stay here alone .\n",
      "Truth :  je ne resterai pas ici seul .\n",
      "Prediction :  je ne vais pas ici ici .\n"
     ]
    },
    {
     "data": {
      "image/png": "[encoded data removed]",
      "text/plain": [
       "<Figure size 432x288 with 2 Axes>"
      ]
     },
     "metadata": {},
     "output_type": "display_data"
    },
    {
     "name": "stdout",
     "output_type": "stream",
     "text": [
      "======== Model 8 ========\n",
      "Source :  i won t stay here alone .\n",
      "Truth :  je ne resterai pas ici seul .\n",
      "Prediction :  je ne vais pas seul .\n"
     ]
    },
    {
     "data": {
      "image/png": "[encoded data removed]",
      "text/plain": [
       "<Figure size 432x288 with 2 Axes>"
      ]
     },
     "metadata": {},
     "output_type": "display_data"
    },
    {
     "name": "stdout",
     "output_type": "stream",
     "text": [
      "======== Model 9 ========\n",
      "Source :  i won t stay here alone .\n",
      "Truth :  je ne resterai pas ici seul .\n",
      "Prediction :  je ne me pas rester la .\n"
     ]
    },
    {
     "data": {
      "image/png": "[encoded data removed]",
      "text/plain": [
       "<Figure size 432x288 with 2 Axes>"
      ]
     },
     "metadata": {},
     "output_type": "display_data"
    },
    {
     "name": "stdout",
     "output_type": "stream",
     "text": [
      "======== Model 10 ========\n",
      "Source :  i won t stay here alone .\n",
      "Truth :  je ne resterai pas ici seul .\n",
      "Prediction :  je ne suis pas pas .\n"
     ]
    },
    {
     "data": {
      "image/png": "[encoded data removed]",
      "text/plain": [
       "<Figure size 432x288 with 2 Axes>"
      ]
     },
     "metadata": {},
     "output_type": "display_data"
    },
    {
     "name": "stdout",
     "output_type": "stream",
     "text": [
      "======== Model 11 ========\n",
      "Source :  i won t stay here alone .\n",
      "Truth :  je ne resterai pas ici seul .\n",
      "Prediction :  je ne rester pas ici .\n"
     ]
    },
    {
     "data": {
      "image/png": "[encoded data removed]",
      "text/plain": [
       "<Figure size 432x288 with 2 Axes>"
      ]
     },
     "metadata": {},
     "output_type": "display_data"
    },
    {
     "name": "stdout",
     "output_type": "stream",
     "text": [
      "======== Model 12 ========\n",
      "Source :  i won t stay here alone .\n",
      "Truth :  je ne resterai pas ici seul .\n",
      "Prediction :  je ne ne pas ici .\n"
     ]
    },
    {
     "data": {
      "image/png": "[encoded data removed]",
      "text/plain": [
       "<Figure size 432x288 with 2 Axes>"
      ]
     },
     "metadata": {},
     "output_type": "display_data"
    },
    {
     "name": "stdout",
     "output_type": "stream",
     "text": [
      "======== Model 13 ========\n",
      "Source :  i won t stay here alone .\n",
      "Truth :  je ne resterai pas ici seul .\n",
      "Prediction :  je ne rester pas rester ici .\n"
     ]
    },
    {
     "data": {
      "image/png": "[encoded data removed]",
      "text/plain": [
       "<Figure size 432x288 with 2 Axes>"
      ]
     },
     "metadata": {},
     "output_type": "display_data"
    },
    {
     "name": "stdout",
     "output_type": "stream",
     "text": [
      "======== Model 14 ========\n",
      "Source :  i won t stay here alone .\n",
      "Truth :  je ne resterai pas ici seul .\n",
      "Prediction :  je ne vais pas ici .\n"
     ]
    },
    {
     "data": {
      "image/png": "[encoded data removed]",
      "text/plain": [
       "<Figure size 432x288 with 2 Axes>"
      ]
     },
     "metadata": {},
     "output_type": "display_data"
    }
   ],
   "source": [
    "i = 1\n",
    "file_type = 'small'\n",
    "model_type = modelcode_small\n",
    "\n",
    "_, test_data, _, SOURCE, TARGET = get_model_config(model_type[i-1], lang1, lang2, file_type=file_type)\n",
    "\n",
    "test = random.choice(test_data)\n",
    "source_sentence = test.so\n",
    "target_sentence = test.ta\n",
    "\n",
    "s = torch.LongTensor(list(map(lambda x: SOURCE.vocab.stoi[x], source_sentence))).view(1, -1)\n",
    "t = torch.LongTensor(list(map(lambda x: TARGET.vocab.stoi[x], target_sentence))).view(1, -1)\n",
    "if USE_CUDA:\n",
    "    s = s.cuda()\n",
    "    t = t.cuda()\n",
    "\n",
    "for i, code in enumerate(model_type, 1):\n",
    "    enc, dec, _, _, _ = build_model(code, lang1, lang2, file_path='./data/en_fa/', file_type=file_type)\n",
    "    \n",
    "    output, hidden = enc(s, [s.size(1)])\n",
    "    pred, attn = dec.decode(hidden, output, [s.size(1)])\n",
    "    pred_sentence = [TARGET.vocab.itos[i] for i in pred if i not in [2, 3]]\n",
    "    print('======== Model {} ========'.format(i))\n",
    "    print('Source : ', ' '.join(source_sentence))\n",
    "    print('Truth : ', ' '.join(target_sentence))\n",
    "    print('Prediction : ', ' '.join(pred_sentence))\n",
    "\n",
    "    if USE_CUDA:\n",
    "        attn = attn.cpu()\n",
    "\n",
    "    show_attention(source_sentence, pred_sentence, attn.data[1:-1])"
   ]
  },
  {
   "cell_type": "code",
   "execution_count": 16,
   "metadata": {},
   "outputs": [
    {
     "name": "stdout",
     "output_type": "stream",
     "text": [
      "======== Model 15 ========\n",
      "Source :  tom really wants to lose weight .\n",
      "Truth :  tom veut vraiment perdre du poids .\n",
      "Prediction :  tom veut perdre du poids poids\n"
     ]
    },
    {
     "data": {
      "image/png": "[encoded data removed]",
      "text/plain": [
       "<Figure size 432x288 with 2 Axes>"
      ]
     },
     "metadata": {},
     "output_type": "display_data"
    },
    {
     "name": "stdout",
     "output_type": "stream",
     "text": [
      "======== Model 16 ========\n",
      "Source :  tom really wants to lose weight .\n",
      "Truth :  tom veut vraiment perdre du poids .\n",
      "Prediction :  tom tom vraiment perdre perdre .\n"
     ]
    },
    {
     "data": {
      "image/png": "[encoded data removed]",
      "text/plain": [
       "<Figure size 432x288 with 2 Axes>"
      ]
     },
     "metadata": {},
     "output_type": "display_data"
    }
   ],
   "source": [
    "i = 1\n",
    "file_type = 'filtered'\n",
    "model_type = modelcode_filtered\n",
    "_, test_data, _, SOURCE, TARGET = get_model_config(model_type[i-1], lang1, lang2, file_type=file_type)\n",
    "\n",
    "test = random.choice(test_data)\n",
    "source_sentence = test.so\n",
    "target_sentence = test.ta\n",
    "\n",
    "s = torch.LongTensor(list(map(lambda x: SOURCE.vocab.stoi[x], source_sentence))).view(1, -1)\n",
    "t = torch.LongTensor(list(map(lambda x: TARGET.vocab.stoi[x], target_sentence))).view(1, -1)\n",
    "if USE_CUDA:\n",
    "    s = s.cuda()\n",
    "    t = t.cuda()\n",
    "\n",
    "for i, code in enumerate(model_type, 15):\n",
    "    enc, dec, _, _, _ = build_model(code, lang1, lang2, file_path='./data/en_fa/', file_type=file_type)\n",
    "    \n",
    "    output, hidden = enc(s, [s.size(1)])\n",
    "    pred, attn = dec.decode(hidden, output, [s.size(1)])\n",
    "    pred_sentence = [TARGET.vocab.itos[i] for i in pred if i not in [2, 3]]\n",
    "    print('======== Model {} ========'.format(i))\n",
    "    print('Source : ', ' '.join(source_sentence))\n",
    "    print('Truth : ', ' '.join(target_sentence))\n",
    "    print('Prediction : ', ' '.join(pred_sentence))\n",
    "\n",
    "    if USE_CUDA:\n",
    "        attn = attn.cpu()\n",
    "\n",
    "    show_attention(source_sentence, pred_sentence, attn.data[1:-1])"
   ]
  },
  {
   "cell_type": "code",
   "execution_count": null,
   "metadata": {},
   "outputs": [],
   "source": []
  }
 ],
 "metadata": {
  "kernelspec": {
   "display_name": "Python 3",
   "language": "python",
   "name": "python3"
  },
  "language_info": {
   "codemirror_mode": {
    "name": "ipython",
    "version": 3
   },
   "file_extension": ".py",
   "mimetype": "text/x-python",
   "name": "python",
   "nbconvert_exporter": "python",
   "pygments_lexer": "ipython3",
   "version": "3.6.5"
  }
 },
 "nbformat": 4,
 "nbformat_minor": 2
}
