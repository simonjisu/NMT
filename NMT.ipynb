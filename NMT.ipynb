{
 "cells": [
  {
   "cell_type": "markdown",
   "metadata": {},
   "source": [
    "# \"NMT by Jointly Learning to Align and Translate\" Implementation\n",
    "\n",
    "original paper: https://arxiv.org/abs/1409.0473"
   ]
  },
  {
   "cell_type": "markdown",
   "metadata": {},
   "source": [
    "references\n",
    "* arichitecture picture: https://arxiv.org/pdf/1703.03906.pdf\n",
    "* tutorial: https://github.com/spro/practical-pytorch/blob/master/seq2seq-translation/seq2seq-translation-batched.ipynb\n",
    "* data source: http://www.statmt.org/wmt14/translation-task.html\n",
    "* data source2: http://www.manythings.org/anki/"
   ]
  },
  {
   "cell_type": "code",
   "execution_count": 1,
   "metadata": {},
   "outputs": [],
   "source": [
    "# torch\n",
    "import torch\n",
    "import torch.nn as nn\n",
    "import torch.optim as optim\n",
    "import torch.nn.functional as F\n",
    "from torchtext.data import Field, Iterator, BucketIterator, TabularDataset\n",
    "from torch.nn.utils.rnn import pack_padded_sequence, pad_packed_sequence\n",
    "# others\n",
    "import unicodedata\n",
    "import re\n",
    "import numpy as np\n",
    "import random\n",
    "import matplotlib.pyplot as plt\n",
    "import matplotlib.ticker as ticker"
   ]
  },
  {
   "cell_type": "code",
   "execution_count": 2,
   "metadata": {},
   "outputs": [],
   "source": [
    "USE_CUDA = torch.cuda.is_available()\n",
    "DEVICE = torch.cuda.current_device()\n",
    "# USE_CUDA = False\n",
    "# DEVICE = -1"
   ]
  },
  {
   "cell_type": "markdown",
   "metadata": {},
   "source": [
    "## Prepare data"
   ]
  },
  {
   "cell_type": "code",
   "execution_count": 5,
   "metadata": {},
   "outputs": [],
   "source": [
    "# train_path = 'data/en_de/en_de_1000.txt' # cannot use because of gpu memory is not enough\n",
    "train_file = 'eng-fra-filtered.train'\n",
    "valid_file = 'eng-fra-filtered.valid'\n",
    "test_file = 'eng-fra-filtered.test'\n",
    "BATCH_SIZE = 128"
   ]
  },
  {
   "cell_type": "code",
   "execution_count": 6,
   "metadata": {},
   "outputs": [],
   "source": [
    "SOURCE = Field(tokenize=str.split, use_vocab=True, init_token=\"<s>\", eos_token=\"</s>\", lower=True, \n",
    "               include_lengths=True, batch_first=True)\n",
    "TARGET = Field(tokenize=str.split, use_vocab=True, init_token=\"<s>\", eos_token=\"</s>\", lower=True, \n",
    "               batch_first=True)"
   ]
  },
  {
   "cell_type": "code",
   "execution_count": 7,
   "metadata": {},
   "outputs": [],
   "source": [
    "train_data, valid_data, test_data = \\\n",
    "    TabularDataset.splits(path='data/en_fa/', format='tsv', train=train_file, validation=valid_file, test=test_file,\n",
    "                          fields=[('so', SOURCE), ('ta', TARGET)])"
   ]
  },
  {
   "cell_type": "code",
   "execution_count": 8,
   "metadata": {},
   "outputs": [],
   "source": [
    "SOURCE.build_vocab(train_data)\n",
    "TARGET.build_vocab(train_data)"
   ]
  },
  {
   "cell_type": "code",
   "execution_count": 9,
   "metadata": {},
   "outputs": [],
   "source": [
    "train_loader = BucketIterator(train_data, batch_size=BATCH_SIZE, device=DEVICE,\n",
    "                              sort_key=lambda x: len(x.so), sort_within_batch=True, repeat=False)\n",
    "valid_loader = BucketIterator(valid_data, batch_size=BATCH_SIZE, device=DEVICE,\n",
    "                              sort_key=lambda x: len(x.so), sort_within_batch=True, repeat=False)\n",
    "test_loader = BucketIterator(test_data, batch_size=BATCH_SIZE, device=DEVICE,\n",
    "                              sort_key=lambda x: len(x.so), sort_within_batch=True, repeat=False)"
   ]
  },
  {
   "cell_type": "code",
   "execution_count": 10,
   "metadata": {},
   "outputs": [
    {
     "data": {
      "text/plain": [
       "(10322, 17526)"
      ]
     },
     "execution_count": 10,
     "metadata": {},
     "output_type": "execute_result"
    }
   ],
   "source": [
    "len(SOURCE.vocab), len(TARGET.vocab)"
   ]
  },
  {
   "cell_type": "code",
   "execution_count": 21,
   "metadata": {},
   "outputs": [
    {
     "data": {
      "text/plain": [
       "['i', 'studied', 'for', 'a', 'while', 'in', 'the', 'afternoon', '.']"
      ]
     },
     "execution_count": 21,
     "metadata": {},
     "output_type": "execute_result"
    }
   ],
   "source": [
    "train_data[-1].so"
   ]
  },
  {
   "cell_type": "markdown",
   "metadata": {},
   "source": [
    "## architecture"
   ]
  },
  {
   "cell_type": "markdown",
   "metadata": {},
   "source": [
    "![](./pics/encoder_decoder_att.png)"
   ]
  },
  {
   "cell_type": "markdown",
   "metadata": {},
   "source": [
    "## Encoder"
   ]
  },
  {
   "cell_type": "code",
   "execution_count": 9,
   "metadata": {},
   "outputs": [],
   "source": [
    "class Encoder(nn.Module):\n",
    "    def __init__(self, V_e, m_e, n_e, num_layers=1, bidrec=False):\n",
    "        super(Encoder, self).__init__()\n",
    "        \"\"\"\n",
    "        vocab_size: V_e\n",
    "        embed_size: m_e\n",
    "        hidden_size: n_e\n",
    "        \"\"\"\n",
    "        self.V_e = V_e\n",
    "        self.m_e = m_e\n",
    "        self.n_e = n_e\n",
    "        self.num_layers = num_layers\n",
    "        self.bidrec = bidrec\n",
    "        self.n_direct = 2 if bidrec else 1\n",
    "        \n",
    "        self.embed = nn.Embedding(V_e, m_e) \n",
    "        self.gru = nn.GRU(m_e, n_e, num_layers, batch_first=True, bidirectional=bidrec)\n",
    "        \n",
    "    def forward(self, inputs, lengths):\n",
    "        \"\"\"\n",
    "        input: \n",
    "        - inputs: B, T_x\n",
    "        - lengths: actual max length of batches\n",
    "        output:\n",
    "        - outputs: B, T_x, n_e\n",
    "        \"\"\"\n",
    "        # embeded: (B, T_x, n_e)\n",
    "        embeded = self.embed(inputs) \n",
    "        # packed: (B*T_x, n_e)\n",
    "        packed = pack_padded_sequence(embeded, lengths, batch_first=True) \n",
    "        # packed outputs: (B*T_x, 2*n_e)\n",
    "        # hidden: (num of layers*n_direct, B, 2*n_e)\n",
    "        outputs, hidden = self.gru(packed)\n",
    "        # unpacked outputs: (B, T_x, 2*n_e)\n",
    "        outputs, output_lengths = pad_packed_sequence(outputs, batch_first=True)\n",
    "        \n",
    "        # hidden bidirection: (num of layers*n_direct(0,1,2...last one), B, n_e)\n",
    "        # choosen last hidden: (B, 1, 2*n_e)\n",
    "        hidden = torch.cat([h for h in hidden[-self.n_direct:]], 1).unsqueeze(1)\n",
    "        \n",
    "        return outputs, hidden"
   ]
  },
  {
   "cell_type": "markdown",
   "metadata": {},
   "source": [
    "## Attention"
   ]
  },
  {
   "cell_type": "code",
   "execution_count": 10,
   "metadata": {},
   "outputs": [],
   "source": [
    "class Attention(nn.Module):\n",
    "    def __init__(self, hidden_size, hidden_size2=None, method='general'):\n",
    "        super(Attention, self).__init__()\n",
    "        \"\"\"\n",
    "        hidden_size: set hidden size same as decoder hidden size which is n_d (= 2*n_e)\n",
    "        hidden_size2: only for concat&paper method, if none then is same as hidden_size (n_d)\n",
    "        (in paper notation is n', https://arxiv.org/abs/1409.0473)\n",
    "        methods:\n",
    "        - 'dot': dot product between hidden and encoder_outputs\n",
    "        - 'general': encoder_outputs through a linear layer \n",
    "        - 'concat': concat (hidden, encoder_outputs)\n",
    "        - 'paper': concat + tanh\n",
    "        \"\"\"\n",
    "        self.method = method\n",
    "        self.hidden_size = hidden_size \n",
    "        self.hidden_size2 = hidden_size2 if hidden_size2 else hidden_size\n",
    "        \n",
    "        if self.method == 'general':\n",
    "            self.attn = nn.Linear(self.hidden_size, hidden_size) \n",
    "            # linear_weight shape: (out_f, in_f)\n",
    "            # linear input: (B, *, in_f)\n",
    "            # linear output: (B, *, out_f)\n",
    "\n",
    "        elif self.method == 'concat':\n",
    "            self.attn = nn.Linear(self.hidden_size*2, self.hidden_size2)\n",
    "            self.v = nn.Parameter(torch.FloatTensor(1, self.hidden_size2))\n",
    "        \n",
    "        \n",
    "    def forward(self, hidden, encoder_outputs, encoder_lengths=None, return_weight=False):\n",
    "        \"\"\"\n",
    "        input:\n",
    "        - hidden, previous hidden(= H): B, 1, n_d \n",
    "        - encoder_outputs, source context(= O): B, T_x, n_d\n",
    "        - encoder_lengths: real lengths of encoder outputs\n",
    "        - return_weight = return weights(alphas)\n",
    "        output:\n",
    "        - attentioned_hidden(= z): B, 1, n_d\n",
    "        - weights(= w): B, 1, T_x\n",
    "        \"\"\"\n",
    "        H, O = hidden, encoder_outputs\n",
    "        # Batch(B), Seq_length(T), dimemsion(n)\n",
    "        B_H, T_H, n_H = H.size()\n",
    "        B_O, T_O, n_O = O.size()\n",
    "        \n",
    "        if B_H != B_O:\n",
    "            msg = \"Batch size is not correct, H: {} O: {}\".format(H.size(), O.size())\n",
    "            raise ValueError(msg)\n",
    "        else:\n",
    "            B = B_H\n",
    "        \n",
    "        # score: (B, 1, T_x)\n",
    "        s = self.score(H, O) \n",
    "        \n",
    "        # encoding masking: ensure not to calculate paddings\n",
    "        if encoder_lengths is not None:\n",
    "            mask = s.data.new(B, T_H, T_O) # (B, 1, T_x)\n",
    "            mask = self.fill_context_mask(mask, sizes=encoder_lengths, v_mask=float('-inf'), v_unmask=0)\n",
    "            s += mask\n",
    "        \n",
    "        # softmax: (B, 1, T_x)\n",
    "        w = F.softmax(s, 2) \n",
    "        \n",
    "        # attention: weight * encoder_hiddens, (B, 1, T_x) * (B, T_x, n_d) = (B, 1, n_d)\n",
    "        z = w.bmm(O)\n",
    "        if return_weight:\n",
    "            return z, w\n",
    "        return z\n",
    "    \n",
    "    def score(self, H, O):\n",
    "        \"\"\"\n",
    "        inputs:\n",
    "        - hiddden, previous hidden(= H): B, 1, n_d \n",
    "        - encoder_outputs, source context(= O): B, T_x, n_d\n",
    "        \"\"\"\n",
    "        if self.method == 'dot':\n",
    "            # bmm: (B, 1, n_d) * (B, n_d, T_x) = (B, 1, T_x)\n",
    "            e = H.bmm(O.transpose(1, 2))\n",
    "            return e\n",
    "        \n",
    "        elif self.method == 'general':\n",
    "            # attn: (B, T_x, n_d) > (B, T_x, n_d)\n",
    "            # bmm: (B, 1, n_d) * (B, n_d, T_x) = (B, 1, T_x)\n",
    "            e = self.attn(O)\n",
    "            e = H.bmm(e.transpose(1, 2))\n",
    "            return e\n",
    "        \n",
    "        elif self.method == 'concat':\n",
    "            # H repeat: (B, 1, n_d) > (B, T_x, n_d)\n",
    "            # cat: (B, T_x, 2*n_d)\n",
    "            # attn: (B, T_x, 2*n_d) > (B, T_x, n_d)\n",
    "            # v repeat: (1, n_d) > (B, 1, n_d)\n",
    "            # bmm: (B, 1, n_d) * (B, n_d, T_x) = (B, 1, T_x)\n",
    "            cat = torch.cat([H.repeat(1, O.size(1), 1), O], 2)\n",
    "            e = self.attn(cat)\n",
    "            v = self.v.repeat(O.size(0), 1).unsqueeze(1)\n",
    "            e = v.bmm(e.transpose(1, 2))\n",
    "            return e\n",
    "        \n",
    "        elif self.method == 'paper':\n",
    "            # add tanh after attention linear layer in 'concat' method\n",
    "            cat = torch.cat([H.repeat(1, O.size(1), 1), O], 2)\n",
    "            e = F.tanh(self.attn(cat))\n",
    "            v = self.v.repeat(O.size(0), 1).unsqueeze(1)\n",
    "            e = v.bmm(e.transpose(1, 2))\n",
    "            return e\n",
    "    \n",
    "    def fill_context_mask(self, mask, sizes, v_mask, v_unmask):\n",
    "        \"\"\"Fill attention mask inplace for a variable length context.\n",
    "        Args\n",
    "        ----\n",
    "        mask: Tensor of size (B, T, D)\n",
    "            Tensor to fill with mask values. \n",
    "        sizes: list[int]\n",
    "            List giving the size of the context for each item in\n",
    "            the batch. Positions beyond each size will be masked.\n",
    "        v_mask: float\n",
    "            Value to use for masked positions.\n",
    "        v_unmask: float\n",
    "            Value to use for unmasked positions.\n",
    "        Returns\n",
    "        -------\n",
    "        mask:\n",
    "            Filled with values in {v_mask, v_unmask}\n",
    "        \"\"\"\n",
    "        mask.fill_(v_unmask)\n",
    "        n_context = mask.size(2)\n",
    "        for i, size in enumerate(sizes):\n",
    "            if size < n_context:\n",
    "                mask[i,:,size:] = v_mask\n",
    "        return mask"
   ]
  },
  {
   "cell_type": "markdown",
   "metadata": {},
   "source": [
    "## Decoder"
   ]
  },
  {
   "cell_type": "code",
   "execution_count": 11,
   "metadata": {},
   "outputs": [],
   "source": [
    "class Decoder(nn.Module):\n",
    "    def __init__(self, V_d, m_d, n_d, sos_idx, num_layers=1, hidden_size2=None, method='general', \n",
    "                 return_weight=True, max_len=15):\n",
    "        super(Decoder, self).__init__()\n",
    "        \"\"\"\n",
    "        vocab_size: V_d\n",
    "        embed_size: m_d\n",
    "        hidden_size: n_d (set this value as 2*n_e)\n",
    "        methods:\n",
    "        - 'dot': dot product between hidden and encoder_outputs\n",
    "        - 'general': encoder_outputs through a linear layer \n",
    "        - 'concat': concat (hidden, encoder_outputs)\n",
    "        - 'paper': concat + tanh\n",
    "        return_weight: return attention weights\n",
    "        \"\"\"\n",
    "        self.V_d = V_d\n",
    "        self.m_d = m_d\n",
    "        self.n_d = n_d\n",
    "        self.sos_idx = sos_idx\n",
    "        self.num_layers = num_layers\n",
    "        self.return_weight = return_weight\n",
    "        self.method = method\n",
    "        # attention\n",
    "        self.attention = Attention(hidden_size=n_d, hidden_size2=hidden_size2, method=method)\n",
    "        # embed\n",
    "        self.embed = nn.Embedding(V_d, m_d)\n",
    "        # gru(W*[embed, context] + U*[hidden_prev])\n",
    "        # gru: m+n\n",
    "        self.gru = nn.GRU(m_d+n_d, n_d, num_layers, batch_first=True, bidirectional=False) \n",
    "        # linear\n",
    "        self.linear = nn.Linear(2*n_d, V_d)\n",
    "        self.max_len = max_len\n",
    "        \n",
    "        \n",
    "    def start_token(self, batch_size):\n",
    "        sos = torch.LongTensor([self.sos_idx]*batch_size).unsqueeze(1)\n",
    "        if USE_CUDA: sos = sos.cuda()\n",
    "        return sos\n",
    "    \n",
    "    def forward(self, hidden, enc_outputs, enc_outputs_lengths=None, max_len=None):\n",
    "        \"\"\"\n",
    "        input:\n",
    "        - hidden(previous hidden): B, 1, n_d \n",
    "        - enc_outputs(source context): B, T_x, n_d\n",
    "        - enc_outputs_lengths: list type\n",
    "        - max_len(targer sentences max len in batch): T_y\n",
    "        \"\"\"\n",
    "        if max_len is None: max_len = self.max_len\n",
    "        \n",
    "        inputs = self.start_token(hidden.size(0)) # (B, 1)\n",
    "        embeded = self.embed(inputs) # (B, 1, m_d)\n",
    "        # prepare for whole targer sentence scores\n",
    "        scores = []\n",
    "        attn_weights = []\n",
    "        \n",
    "        for i in range(max_len):\n",
    "            # context vector: previous hidden(s{i-1}), encoder_outputs(O_e) > context(c{i}), weights\n",
    "            # - context: (B, 1, n_d)\n",
    "            # - weights: (B, 1, T_x)\n",
    "            context, weights = self.attention(hidden, enc_outputs, enc_outputs_lengths, \n",
    "                                              return_weight=self.return_weight)\n",
    "            attn_weights.append(weights.squeeze(1))\n",
    "            \n",
    "            # concat context & embedding vectors: (B, 1, m_d+n_d)\n",
    "            gru_input = torch.cat([embeded, context], 2)\n",
    "            \n",
    "            # gru((context&embedding), previous hidden)\n",
    "            # output hidden(s{i}): (1, B, n_d)\n",
    "            _, hidden = self.gru(gru_input, hidden.transpose(0, 1))\n",
    "            hidden = hidden.transpose(0, 1) # change shape to (B, 1, n_d) again\n",
    "            \n",
    "            # concat context and new hidden vectors: (B, 1, 2*n_d)\n",
    "            concated = torch.cat([hidden, context], 2)\n",
    "            \n",
    "            # get score: (B, V_d)\n",
    "            score = self.linear(concated.squeeze(1))\n",
    "            scores.append(score)\n",
    "            \n",
    "            # greedy method\n",
    "            decoded = score.max(1)[1]  # (B)\n",
    "            embeded = self.embed(decoded).unsqueeze(1) # next input y{i-1} (B, 1, m_d) \n",
    "\n",
    "        # column-wise concat, reshape!! \n",
    "        # scores = [(B, V_d), (B, V_d), (B, V_d)...] > (B, V_d*max_len)\n",
    "        # attn_weights = [(B, T_x), (B, T_x), (B, T_x)...] > (B*max_len, T_x)\n",
    "        scores = torch.cat(scores, 1)\n",
    "        return scores.view(inputs.size(0)*max_len, -1), torch.cat(attn_weights)"
   ]
  },
  {
   "cell_type": "markdown",
   "metadata": {},
   "source": [
    "## Parameters"
   ]
  },
  {
   "cell_type": "code",
   "execution_count": 12,
   "metadata": {},
   "outputs": [],
   "source": [
    "V_so = len(SOURCE.vocab)\n",
    "V_ta = len(TARGET.vocab)\n",
    "HIDDEN = 600\n",
    "EMBED = 300\n",
    "STEP = 200\n",
    "LR = 0.001\n",
    "NUM_LAYERS = 1\n",
    "BATCH_SIZE = BATCH_SIZE\n",
    "EARLY_STOPPING = False"
   ]
  },
  {
   "cell_type": "markdown",
   "metadata": {},
   "source": [
    "---"
   ]
  },
  {
   "cell_type": "markdown",
   "metadata": {},
   "source": [
    "## Build Networks"
   ]
  },
  {
   "cell_type": "code",
   "execution_count": 37,
   "metadata": {},
   "outputs": [],
   "source": [
    "enc = Encoder(V_so, EMBED, HIDDEN, NUM_LAYERS, bidrec=True)\n",
    "dec = Decoder(V_ta, EMBED, 2*HIDDEN, sos_idx=SOURCE.vocab.stoi['<s>'], method='general')\n",
    "if USE_CUDA:\n",
    "    enc = enc.cuda()\n",
    "    dec = dec.cuda()\n",
    "\n",
    "loss_function = nn.CrossEntropyLoss(ignore_index=TARGET.vocab.stoi['<pad>'])\n",
    "optimizer = optim.Adam(list(enc.parameters()) + list(dec.parameters()), lr=LR)\n",
    "scheduler = optim.lr_scheduler.MultiStepLR(gamma=0.1, milestones=[100], optimizer=optimizer)"
   ]
  },
  {
   "cell_type": "markdown",
   "metadata": {},
   "source": [
    "## Train"
   ]
  },
  {
   "cell_type": "code",
   "execution_count": 38,
   "metadata": {},
   "outputs": [
    {
     "name": "stdout",
     "output_type": "stream",
     "text": [
      "[1/200] train_loss: 3.0524, lr: 0.001\n",
      "[11/200] train_loss: 0.6400, lr: 0.001\n",
      "[21/200] train_loss: 0.5111, lr: 0.001\n",
      "[31/200] train_loss: 0.4594, lr: 0.001\n",
      "[41/200] train_loss: 0.4230, lr: 0.001\n",
      "[51/200] train_loss: 0.4023, lr: 0.001\n",
      "[61/200] train_loss: 0.3802, lr: 0.001\n",
      "[71/200] train_loss: 0.3608, lr: 0.001\n",
      "[81/200] train_loss: 0.3556, lr: 0.001\n",
      "[91/200] train_loss: 0.3464, lr: 0.001\n",
      "[101/200] train_loss: 0.2895, lr: 0.0001\n",
      "[111/200] train_loss: 0.2172, lr: 0.0001\n",
      "[121/200] train_loss: 0.2101, lr: 0.0001\n",
      "[131/200] train_loss: 0.2085, lr: 0.0001\n",
      "[141/200] train_loss: 0.2064, lr: 0.0001\n",
      "[151/200] train_loss: 0.2059, lr: 0.0001\n",
      "[161/200] train_loss: 0.2048, lr: 0.0001\n",
      "[171/200] train_loss: 0.2046, lr: 0.0001\n",
      "[181/200] train_loss: 0.2042, lr: 0.0001\n",
      "[191/200] train_loss: 0.2029, lr: 0.0001\n"
     ]
    }
   ],
   "source": [
    "enc.train()\n",
    "dec.train()\n",
    "for step in range(STEP):\n",
    "    losses=[]\n",
    "    scheduler.step()\n",
    "    for i, batch in enumerate(train_loader):\n",
    "        inputs, lengths = batch.so\n",
    "        targets = batch.ta\n",
    "        \n",
    "        enc.zero_grad()\n",
    "        dec.zero_grad()\n",
    "        \n",
    "        output, hidden = enc(inputs, lengths.tolist())\n",
    "        preds, _ = dec(hidden, output, lengths.tolist(), targets.size(1)) # max_len\n",
    "        \n",
    "        loss = loss_function(preds, targets.view(-1))\n",
    "        losses.append(loss.item())\n",
    "        \n",
    "        loss.backward()\n",
    "        optimizer.step()\n",
    "    \n",
    "    if step % 10 == 0:\n",
    "        msg = '[{}/{}] train_loss: {:.4f}, lr: {}'.format(\\\n",
    "          step+1, STEP, np.mean(losses), round(scheduler.get_lr()[0], 6))\n",
    "        print(msg)\n",
    "        losses = []"
   ]
  },
  {
   "cell_type": "code",
   "execution_count": 39,
   "metadata": {},
   "outputs": [],
   "source": [
    "torch.save(enc.state_dict(), './data/model/fra_eng.enc')\n",
    "torch.save(dec.state_dict(), './data/model/fra_eng.dec')"
   ]
  },
  {
   "cell_type": "markdown",
   "metadata": {},
   "source": [
    "## Load"
   ]
  },
  {
   "cell_type": "code",
   "execution_count": 13,
   "metadata": {},
   "outputs": [],
   "source": [
    "enc = Encoder(V_so, EMBED, HIDDEN, NUM_LAYERS, bidrec=True)\n",
    "dec = Decoder(V_ta, EMBED, 2*HIDDEN, sos_idx=SOURCE.vocab.stoi['<s>'], method='general')\n",
    "if USE_CUDA:\n",
    "    enc = enc.cuda()\n",
    "    dec = dec.cuda()\n",
    "    \n",
    "enc.load_state_dict(torch.load('./data/model/fra_eng.enc'))\n",
    "dec.load_state_dict(torch.load('./data/model/fra_eng.dec'))"
   ]
  },
  {
   "cell_type": "markdown",
   "metadata": {},
   "source": [
    "## Test & Visualize Attention"
   ]
  },
  {
   "cell_type": "code",
   "execution_count": 14,
   "metadata": {},
   "outputs": [],
   "source": [
    "# borrowed code from https://github.com/spro/practical-pytorch/blob/master/seq2seq-translation/seq2seq-translation-batched.ipynb\n",
    "\n",
    "def show_attention(input_words, output_words, attentions):\n",
    "    # Set up figure with colorbar\n",
    "    fig = plt.figure()\n",
    "    ax = fig.add_subplot(111)\n",
    "    cax = ax.matshow(attentions.numpy(), cmap='bone')\n",
    "    fig.colorbar(cax)\n",
    "\n",
    "    # Set up axes\n",
    "    ax.set_xticklabels([''] + input_words, rotation=90)\n",
    "    ax.set_yticklabels([''] + output_words)\n",
    "\n",
    "    # Show label at every tick\n",
    "    ax.xaxis.set_major_locator(ticker.MultipleLocator(1))\n",
    "    ax.yaxis.set_major_locator(ticker.MultipleLocator(1))\n",
    "\n",
    "#     show_plot_visdom()\n",
    "    plt.show()\n",
    "    plt.close()"
   ]
  },
  {
   "cell_type": "code",
   "execution_count": 15,
   "metadata": {},
   "outputs": [],
   "source": [
    "def print_sentence(x):\n",
    "    return [i for i in x if i not in ['<s>', '</s>']]"
   ]
  },
  {
   "cell_type": "code",
   "execution_count": 16,
   "metadata": {},
   "outputs": [
    {
     "name": "stdout",
     "output_type": "stream",
     "text": [
      "Source :  something was going on .\n",
      "Truth :  il se passait quelque chose .\n",
      "Prediction :  il est a pas d chose . .\n"
     ]
    },
    {
     "data": {
      "image/png": "[encoded data removed]",
      "text/plain": [
       "<Figure size 432x288 with 2 Axes>"
      ]
     },
     "metadata": {},
     "output_type": "display_data"
    }
   ],
   "source": [
    "enc.eval()\n",
    "dec.eval()\n",
    "\n",
    "test = random.choice(train_data)\n",
    "source_sentence = test.so\n",
    "target_sentence = test.ta\n",
    "\n",
    "s = torch.LongTensor(list(map(lambda x: SOURCE.vocab.stoi[x], source_sentence))).view(1, -1)\n",
    "t = torch.LongTensor(list(map(lambda x: TARGET.vocab.stoi[x], target_sentence))).view(1, -1)\n",
    "if USE_CUDA:\n",
    "    s = s.cuda()\n",
    "    t = t.cuda()\n",
    "\n",
    "output, hidden = enc(s, [s.size(1)])\n",
    "pred, attn = dec(hidden, output)\n",
    "pred_sentence = [TARGET.vocab.itos[i] for i in pred.max(1)[1]]\n",
    "\n",
    "\n",
    "print('Source : ', ' '.join(print_sentence(source_sentence)))\n",
    "print('Truth : ', ' '.join(print_sentence(target_sentence)))\n",
    "print('Prediction : ', ' '.join(print_sentence(pred_sentence)))\n",
    "\n",
    "if USE_CUDA:\n",
    "    attn = attn.cpu()\n",
    "\n",
    "show_attention(source_sentence, pred_sentence, attn.data)"
   ]
  },
  {
   "cell_type": "code",
   "execution_count": null,
   "metadata": {},
   "outputs": [],
   "source": []
  }
 ],
 "metadata": {
  "kernelspec": {
   "display_name": "Python 3",
   "language": "python",
   "name": "python3"
  },
  "language_info": {
   "codemirror_mode": {
    "name": "ipython",
    "version": 3
   },
   "file_extension": ".py",
   "mimetype": "text/x-python",
   "name": "python",
   "nbconvert_exporter": "python",
   "pygments_lexer": "ipython3",
   "version": "3.6.5"
  }
 },
 "nbformat": 4,
 "nbformat_minor": 2
}
