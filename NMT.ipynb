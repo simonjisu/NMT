{
 "cells": [
  {
   "cell_type": "markdown",
   "metadata": {},
   "source": [
    "# \"NMT by Jointly Learning to Align and Translate\" Implementation\n",
    "\n",
    "original paper: https://arxiv.org/abs/1409.0473"
   ]
  },
  {
   "cell_type": "markdown",
   "metadata": {},
   "source": [
    "references\n",
    "* arichitecture picture: https://arxiv.org/pdf/1703.03906.pdf\n",
    "* tutorial: https://github.com/spro/practical-pytorch/blob/master/seq2seq-translation/seq2seq-translation-batched.ipynb\n",
    "* data source: http://www.statmt.org/wmt14/translation-task.html\n",
    "* data source2: http://www.manythings.org/anki/"
   ]
  },
  {
   "cell_type": "code",
   "execution_count": 1,
   "metadata": {},
   "outputs": [],
   "source": [
    "# torch\n",
    "import torch\n",
    "import torch.nn as nn\n",
    "import torch.optim as optim\n",
    "import torch.nn.functional as F\n",
    "from torchtext.data import Field, Iterator, BucketIterator, TabularDataset\n",
    "from torch.nn.utils.rnn import pack_padded_sequence, pad_packed_sequence\n",
    "\n",
    "from decoder import Decoder\n",
    "from encoder import Encoder\n",
    "from attention import Attention\n",
    "from train import evaluation\n",
    "# others\n",
    "import argparse\n",
    "from argparser import get_parser\n",
    "import random\n",
    "import numpy as np\n",
    "import matplotlib.pyplot as plt\n",
    "import matplotlib.ticker as ticker"
   ]
  },
  {
   "cell_type": "code",
   "execution_count": 2,
   "metadata": {},
   "outputs": [],
   "source": [
    "USE_CUDA = torch.cuda.is_available()\n",
    "DEVICE = torch.cuda.current_device()\n",
    "# USE_CUDA = False\n",
    "# DEVICE = -1"
   ]
  },
  {
   "cell_type": "markdown",
   "metadata": {},
   "source": [
    "## Prepare Loader"
   ]
  },
  {
   "cell_type": "code",
   "execution_count": 16,
   "metadata": {},
   "outputs": [],
   "source": [
    "lang1 = 'eng'\n",
    "lang2 = 'fra'\n",
    "config = get_parser(lang1, lang2)\n",
    "SOURCE = Field(tokenize=str.split, use_vocab=True, init_token=\"<s>\", eos_token=\"</s>\", lower=True, \n",
    "                   include_lengths=True, batch_first=True)\n",
    "TARGET = Field(tokenize=str.split, use_vocab=True, init_token=\"<s>\", eos_token=\"</s>\", lower=True, \n",
    "               batch_first=True)\n",
    "\n",
    "train_data, valid_data, test_data = \\\n",
    "        TabularDataset.splits(path=config.PATH, format='tsv', train=config.TRAIN_FILE, \\\n",
    "                              validation=config.VALID_FILE, test=config.TEST_FILE, \\\n",
    "                              fields=[('so', SOURCE), ('ta', TARGET)])\n",
    "\n",
    "SOURCE.build_vocab(train_data)\n",
    "TARGET.build_vocab(train_data)\n",
    "\n",
    "test_loader = BucketIterator(test_data, batch_size=config.BATCH, device=DEVICE,\n",
    "                              sort_key=lambda x: len(x.so), sort_within_batch=True, repeat=False)\n",
    "\n",
    "# vocaburary\n",
    "V_so = len(SOURCE.vocab)\n",
    "V_ta = len(TARGET.vocab)"
   ]
  },
  {
   "cell_type": "code",
   "execution_count": 4,
   "metadata": {},
   "outputs": [],
   "source": [
    "def get_word_counts(lang):\n",
    "    words_count = []\n",
    "    for k, v in lang.vocab.freqs.items():\n",
    "        words_count.append((k, v))\n",
    "    words_count = sorted(words_count, key=lambda x: x[1], reverse=True)\n",
    "    return words_count"
   ]
  },
  {
   "cell_type": "code",
   "execution_count": 5,
   "metadata": {},
   "outputs": [],
   "source": [
    "def plot_word_counts(counts):\n",
    "    x, y = zip(*counts)\n",
    "    idxes = np.arange(1, len(counts)+1)\n",
    "    print(\"top 10 words: {}\".format(x[:10]))\n",
    "    plt.bar(idxes, np.log(np.array(y)+1), 1)\n",
    "    plt.show()"
   ]
  },
  {
   "cell_type": "code",
   "execution_count": 6,
   "metadata": {},
   "outputs": [
    {
     "name": "stdout",
     "output_type": "stream",
     "text": [
      "top 10 words: ('.', 'je', '?', 'est', 'vous', 'a', 'pas', 'il', 'de', 'ne')\n"
     ]
    },
    {
     "data": {
      "image/png": "[encoded data removed]",
      "text/plain": [
       "<Figure size 432x288 with 1 Axes>"
      ]
     },
     "metadata": {},
     "output_type": "display_data"
    }
   ],
   "source": [
    "source_words_count = get_word_counts(SOURCE)\n",
    "plot_word_counts(source_words_count)"
   ]
  },
  {
   "cell_type": "code",
   "execution_count": 7,
   "metadata": {},
   "outputs": [
    {
     "name": "stdout",
     "output_type": "stream",
     "text": [
      "top 10 words: ('.', 'i', 'you', '?', 'a', 'it', 'is', 's', 't', 'the')\n"
     ]
    },
    {
     "data": {
      "image/png": "[encoded data removed]",
      "text/plain": [
       "<Figure size 432x288 with 1 Axes>"
      ]
     },
     "metadata": {},
     "output_type": "display_data"
    }
   ],
   "source": [
    "source_words_count = get_word_counts(TARGET)\n",
    "plot_word_counts(source_words_count)"
   ]
  },
  {
   "cell_type": "code",
   "execution_count": 8,
   "metadata": {},
   "outputs": [
    {
     "name": "stdout",
     "output_type": "stream",
     "text": [
      "train data: 47500, valid_data: 1250, test_data: 1250\n",
      "source language vocab: 9989, target language vocab: 5737\n"
     ]
    }
   ],
   "source": [
    "print('train data: {}, valid_data: {}, test_data: {}'.format(len(train_data), len(valid_data), len(test_data)))\n",
    "print('source language vocab: {}, target language vocab: {}'.format(V_so, V_ta))"
   ]
  },
  {
   "cell_type": "markdown",
   "metadata": {},
   "source": [
    "## architecture"
   ]
  },
  {
   "cell_type": "markdown",
   "metadata": {},
   "source": [
    "![](./pics/encoder_decoder_att.png)"
   ]
  },
  {
   "cell_type": "markdown",
   "metadata": {},
   "source": [
    "---"
   ]
  },
  {
   "cell_type": "markdown",
   "metadata": {},
   "source": [
    "## Build Networks"
   ]
  },
  {
   "cell_type": "code",
   "execution_count": 9,
   "metadata": {},
   "outputs": [],
   "source": [
    "def build(config):\n",
    "    enc = Encoder(V_so, config.EMBED, config.HIDDEN, config.NUM_HIDDEN, bidrec=True)\n",
    "    dec = Decoder(V_ta, config.EMBED, 2*config.HIDDEN, hidden_size2=config.HIDDEN2, \\\n",
    "                  sos_idx=SOURCE.vocab.stoi['<s>'], method=config.METHOD)\n",
    "    if USE_CUDA:\n",
    "        enc = enc.cuda()\n",
    "        dec = dec.cuda()\n",
    "\n",
    "    loss_function = nn.CrossEntropyLoss(ignore_index=TARGET.vocab.stoi['<pad>'])\n",
    "    return enc, dec, loss_function"
   ]
  },
  {
   "cell_type": "markdown",
   "metadata": {},
   "source": [
    "## Load model parameters & test"
   ]
  },
  {
   "cell_type": "code",
   "execution_count": 10,
   "metadata": {},
   "outputs": [
    {
     "name": "stdout",
     "output_type": "stream",
     "text": [
      "model 1 | test_losses: 1.8413164913654327\n"
     ]
    }
   ],
   "source": [
    "for i in range(1, 2):\n",
    "    enc, dec, loss_function = build(config)\n",
    "    enc.eval()\n",
    "    dec.eval()\n",
    "    \n",
    "    enc_model_path = './data/model/{}-{}{}.enc'.format(lang1, lang2, i)\n",
    "    dec_model_path = './data/model/{}-{}{}.dec'.format(lang1, lang2, i)\n",
    "    \n",
    "    enc.load_state_dict(torch.load(enc_model_path))\n",
    "    dec.load_state_dict(torch.load(dec_model_path))\n",
    "    \n",
    "    test_losses = evaluation(enc, dec, loss_function, loader=test_loader)\n",
    "    print('model {} | test_losses: {}'.format(i, np.mean(test_losses)))"
   ]
  },
  {
   "cell_type": "markdown",
   "metadata": {},
   "source": [
    "## Visualize Attention"
   ]
  },
  {
   "cell_type": "code",
   "execution_count": 11,
   "metadata": {},
   "outputs": [],
   "source": [
    "# borrowed code from https://github.com/spro/practical-pytorch/blob/master/seq2seq-translation/seq2seq-translation-batched.ipynb\n",
    "\n",
    "def show_attention(input_words, output_words, attentions):\n",
    "    # Set up figure with colorbar\n",
    "    fig = plt.figure()\n",
    "    ax = fig.add_subplot(111)\n",
    "    cax = ax.matshow(attentions.numpy(), cmap='bone')\n",
    "    fig.colorbar(cax)\n",
    "\n",
    "    # Set up axes\n",
    "    ax.set_xticklabels([''] + input_words, rotation=90)\n",
    "    ax.set_yticklabels([''] + output_words)\n",
    "\n",
    "    # Show label at every tick\n",
    "    ax.xaxis.set_major_locator(ticker.MultipleLocator(1))\n",
    "    ax.yaxis.set_major_locator(ticker.MultipleLocator(1))\n",
    "\n",
    "#     show_plot_visdom()\n",
    "    plt.show()\n",
    "    plt.close()"
   ]
  },
  {
   "cell_type": "code",
   "execution_count": 17,
   "metadata": {},
   "outputs": [],
   "source": [
    "enc, dec, loss_function = build(config)\n",
    "i = 7\n",
    "enc_model_path = './data/model/{}-{}{}.enc'.format(lang1, lang2, i)\n",
    "dec_model_path = './data/model/{}-{}{}.dec'.format(lang1, lang2, i)\n",
    "\n",
    "enc.load_state_dict(torch.load(enc_model_path))\n",
    "dec.load_state_dict(torch.load(dec_model_path))"
   ]
  },
  {
   "cell_type": "code",
   "execution_count": 18,
   "metadata": {},
   "outputs": [
    {
     "name": "stdout",
     "output_type": "stream",
     "text": [
      "Source :  i m feeling much better .\n",
      "Truth :  je me sens bien mieux .\n",
      "Prediction :  je me bien bien .\n"
     ]
    },
    {
     "data": {
      "image/png": "[encoded data removed]",
      "text/plain": [
       "<Figure size 432x288 with 2 Axes>"
      ]
     },
     "metadata": {},
     "output_type": "display_data"
    }
   ],
   "source": [
    "enc.eval()\n",
    "dec.eval()\n",
    "\n",
    "test = random.choice(test_data)\n",
    "source_sentence = test.so\n",
    "target_sentence = test.ta\n",
    "\n",
    "s = torch.LongTensor(list(map(lambda x: SOURCE.vocab.stoi[x], source_sentence))).view(1, -1)\n",
    "t = torch.LongTensor(list(map(lambda x: TARGET.vocab.stoi[x], target_sentence))).view(1, -1)\n",
    "if USE_CUDA:\n",
    "    s = s.cuda()\n",
    "    t = t.cuda()\n",
    "\n",
    "output, hidden = enc(s, [s.size(1)])\n",
    "pred, attn = dec.decode(hidden, output, [s.size(1)])\n",
    "pred_sentence = [TARGET.vocab.itos[i] for i in pred if i not in [2, 3]]\n",
    "\n",
    "\n",
    "print('Source : ', ' '.join(source_sentence))\n",
    "print('Truth : ', ' '.join(target_sentence))\n",
    "print('Prediction : ', ' '.join(pred_sentence))\n",
    "\n",
    "if USE_CUDA:\n",
    "    attn = attn.cpu()\n",
    "\n",
    "show_attention(source_sentence, pred_sentence, attn.data[1:-1])"
   ]
  },
  {
   "cell_type": "code",
   "execution_count": null,
   "metadata": {},
   "outputs": [],
   "source": []
  }
 ],
 "metadata": {
  "kernelspec": {
   "display_name": "Python 3",
   "language": "python",
   "name": "python3"
  },
  "language_info": {
   "codemirror_mode": {
    "name": "ipython",
    "version": 3
   },
   "file_extension": ".py",
   "mimetype": "text/x-python",
   "name": "python",
   "nbconvert_exporter": "python",
   "pygments_lexer": "ipython3",
   "version": "3.6.5"
  }
 },
 "nbformat": 4,
 "nbformat_minor": 2
}
