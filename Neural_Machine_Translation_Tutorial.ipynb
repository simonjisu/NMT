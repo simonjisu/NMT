{
 "cells": [
  {
   "cell_type": "markdown",
   "metadata": {},
   "source": [
    "# Neural Machine Translation Tutorial\n",
    "---\n",
    "\n",
    "Paper Implementation: [Neural Machine Translation by Jointly Learning to Align and Translate](https://arxiv.org/abs/1409.0473) - Dzmitry Bahdanau, Kyunghyun Cho, Yoshua Bengio (v7 2016)"
   ]
  },
  {
   "cell_type": "code",
   "execution_count": 2,
   "metadata": {},
   "outputs": [],
   "source": [
    "import torch\n",
    "import torch.nn as nn\n",
    "import torch.optim as optim\n",
    "import numpy as np\n",
    "import matplotlib.pylab as plt \n",
    "import matplotlib.ticker as ticker\n",
    "from torch.nn.utils.rnn import pack_padded_sequence, pad_packed_sequence"
   ]
  },
  {
   "cell_type": "markdown",
   "metadata": {},
   "source": [
    "---"
   ]
  },
  {
   "cell_type": "markdown",
   "metadata": {},
   "source": [
    "## 신경망 번역기의 목적\n",
    "\n",
    "소스(source)문장을 타겟(target)문장으로 변환하는 것\n",
    "\n",
    "Examples:\n",
    "\n",
    "|source|target|\n",
    "|--|--|\n",
    "| Nice to meet you| 만나서 반갑습니다 |\n",
    "| I am very happy to meet you | 만나서 참 반가워요| "
   ]
  },
  {
   "cell_type": "code",
   "execution_count": 3,
   "metadata": {},
   "outputs": [],
   "source": [
    "flatten = lambda d: [t for s in d for t in s]\n",
    "\n",
    "def build_vocab(data, start_tkn=False):\n",
    "    \"\"\"build vocabulary\"\"\"\n",
    "    if start_tkn:\n",
    "        vocab = {'<unk>': 0, '<pad>': 1, '<s>': 2, '</s>': 3}\n",
    "    else:\n",
    "        vocab = {'<unk>': 0, '<pad>': 1}\n",
    "    \n",
    "    words = set(flatten(data))\n",
    "    for t in words:\n",
    "        if vocab.get(t) is None:\n",
    "            vocab[t] = len(vocab) \n",
    "    return vocab\n",
    "\n",
    "def add_pad(data, start_tkn=False):\n",
    "    \"\"\"add padding of sentences in batch to match lenghts\"\"\"\n",
    "    if start_tkn:\n",
    "        data = [['<s>'] + sent + ['</s>'] for sent in data]\n",
    "    max_len = max([len(sent) for sent in data])\n",
    "    data = [sent + ['<pad>']*(max_len-len(sent)) if len(sent) < max_len else sent \\\n",
    "            for sent in data ]\n",
    "    return data\n",
    "\n",
    "def numericalize(data, vocab):\n",
    "    \"\"\"numericalize and turn them into tensor\"\"\"\n",
    "    f = lambda x: [vocab.get(t) if vocab.get(t) is not None else vocab.get('<unk>') for t in x]\n",
    "    data = list(map(f, data))\n",
    "    return data\n",
    "\n",
    "def preprocess(data, vocab, start_tkn=False):\n",
    "    data = add_pad(data, start_tkn=start_tkn)\n",
    "    data = numericalize(data, vocab)\n",
    "    # 텐서플로우는 아래 부분을 수정해야할겁니다. torch.LongTensor 를 제거하고 data 로만 두시고\n",
    "    # 숫자로 치환된 data 를 numpy array 로 출력하신 다음에 진행하면 될것 같습니다. \n",
    "    return torch.LongTensor(data)  \n",
    "\n",
    "def build_batch(src, trg, src_vocab, trg_vocab, is_sort=False):\n",
    "    if is_sort:\n",
    "        sorted_data = sorted(list(zip(src, trg)), key=lambda x: len(x[0]), reverse=True)\n",
    "        src, trg = list(zip(*sorted_data))\n",
    "    src = preprocess(src, src_vocab, start_tkn=False)\n",
    "    trg = preprocess(trg, trg_vocab, start_tkn=True)\n",
    "    if is_sort:\n",
    "        return (src, src.ne(src_vocab.get('<pad>')).sum(1)), trg\n",
    "    return src, trg"
   ]
  },
  {
   "cell_type": "code",
   "execution_count": 4,
   "metadata": {},
   "outputs": [],
   "source": [
    "dataset = \"\"\"Nice to meet you > 만나서 반가워요 \\n I am very happy to meet you > 만나서 참 반가워요\"\"\".splitlines()\n",
    "dataset = [s.strip().split('>') for s in dataset]\n",
    "src, trg = [[sent.split() for sent in x] for x in zip(*dataset)]\n",
    "src_vocab = build_vocab(src)\n",
    "trg_vocab = build_vocab(trg, start_tkn=True)\n",
    "(inputs, lengths), targets = build_batch(src, trg, src_vocab, trg_vocab, is_sort=True)"
   ]
  },
  {
   "cell_type": "code",
   "execution_count": 5,
   "metadata": {},
   "outputs": [
    {
     "data": {
      "text/plain": [
       "tensor([[4, 8, 3, 9, 2, 7, 5],\n",
       "        [6, 2, 7, 5, 1, 1, 1]])"
      ]
     },
     "execution_count": 5,
     "metadata": {},
     "output_type": "execute_result"
    }
   ],
   "source": [
    "inputs"
   ]
  },
  {
   "cell_type": "code",
   "execution_count": 6,
   "metadata": {},
   "outputs": [
    {
     "data": {
      "text/plain": [
       "tensor([7, 4])"
      ]
     },
     "execution_count": 6,
     "metadata": {},
     "output_type": "execute_result"
    }
   ],
   "source": [
    "lengths"
   ]
  },
  {
   "cell_type": "code",
   "execution_count": 7,
   "metadata": {},
   "outputs": [
    {
     "data": {
      "text/plain": [
       "tensor([[2, 6, 4, 5, 3],\n",
       "        [2, 6, 5, 3, 1]])"
      ]
     },
     "execution_count": 7,
     "metadata": {},
     "output_type": "execute_result"
    }
   ],
   "source": [
    "targets"
   ]
  },
  {
   "cell_type": "markdown",
   "metadata": {},
   "source": [
    "## Hyperparameters for Encoder"
   ]
  },
  {
   "cell_type": "code",
   "execution_count": 94,
   "metadata": {},
   "outputs": [],
   "source": [
    "EMBED = 20  # embedding_size\n",
    "HIDDEN = 60  # hidden_size\n",
    "ENC_N_LAYER = 3  # encoder number of layers\n",
    "L_NORM = True  # whether to use layernorm"
   ]
  },
  {
   "cell_type": "markdown",
   "metadata": {},
   "source": [
    "## Encoder"
   ]
  },
  {
   "cell_type": "markdown",
   "metadata": {},
   "source": []
  },
  {
   "cell_type": "code",
   "execution_count": 95,
   "metadata": {},
   "outputs": [],
   "source": [
    "class Encoder(nn.Module):\n",
    "    \"\"\"Encoder\"\"\"\n",
    "    def __init__(self, vocab_size, embed_size, hidden_size, n_layers, layernorm=False, bidirec=False):\n",
    "        super(Encoder, self).__init__()        \n",
    "        self.hidden_size = hidden_size\n",
    "        self.n_layers = n_layers\n",
    "        self.n_direction = 2 if bidirec else 1\n",
    "        self.layernorm = layernorm\n",
    "        self.embedding = nn.Embedding(vocab_size, embed_size)\n",
    "        self.gru = nn.GRU(embed_size, hidden_size, n_layers, bidirectional=bidirec, \n",
    "                          batch_first=True)\n",
    "        if layernorm:\n",
    "            self.l_norm = nn.LayerNorm(embed_size)\n",
    "        \n",
    "    def forward(self, inputs, lengths):\n",
    "        \"\"\"\n",
    "        Inputs:\n",
    "        - inputs: B, T_e\n",
    "        - lengths: B, (list)\n",
    "        Outputs:\n",
    "        - outputs: B, T_e, n_directions*H\n",
    "        - hiddens: 1, B, n_directions*H\n",
    "        \"\"\"\n",
    "        assert isinstance(lengths, list), \"lengths must be a list type\"\n",
    "        # B: batch_size, T_e: enc_length, M: embed_size, H: hidden_size\n",
    "        inputs = self.embedding(inputs) # (B, T_e) > (B, T_e, m)\n",
    "        if self.layernorm:\n",
    "            inputs = self.l_norm(inputs)\n",
    "        \n",
    "        packed_inputs = pack_padded_sequence(inputs, lengths, batch_first=True)\n",
    "        # packed_inputs: (B*T_e, M) + batches: (T_e)\n",
    "        packed_outputs, hiddens = self.gru(packed_inputs)\n",
    "        # packed_outputs: (B*T_e, n_directions*H) + batches: (T_e)\n",
    "        # hiddens: (n_layers*n_directions, B, H)\n",
    "        outputs, outputs_lengths = pad_packed_sequence(packed_outputs, batch_first=True)\n",
    "        # output: (B, T_e, H) + lengths (B)\n",
    "        hiddens = torch.cat([h for h in hiddens[-self.n_direction:]], 1).unsqueeze(0)\n",
    "        # hiddens: (1, B, n_directions*H)\n",
    "        return outputs, hiddens"
   ]
  },
  {
   "cell_type": "code",
   "execution_count": 96,
   "metadata": {},
   "outputs": [],
   "source": [
    "encoder = Encoder(len(src_vocab), EMBED, HIDDEN, ENC_N_LAYER, L_NORM, True)"
   ]
  },
  {
   "cell_type": "code",
   "execution_count": 97,
   "metadata": {},
   "outputs": [
    {
     "data": {
      "text/plain": [
       "(torch.Size([2, 7, 120]), torch.Size([1, 2, 120]))"
      ]
     },
     "execution_count": 97,
     "metadata": {},
     "output_type": "execute_result"
    }
   ],
   "source": [
    "enc_output, enc_hidden = encoder(inputs, lengths.tolist())\n",
    "enc_output.size(), enc_hidden.size()"
   ]
  },
  {
   "cell_type": "markdown",
   "metadata": {},
   "source": [
    "## Decoder"
   ]
  },
  {
   "cell_type": "code",
   "execution_count": 10,
   "metadata": {},
   "outputs": [
    {
     "data": {
      "text/plain": [
       "torch.Size([32, 1, 256])"
      ]
     },
     "execution_count": 10,
     "metadata": {},
     "output_type": "execute_result"
    }
   ],
   "source": [
    "dec_embedding = nn.Embedding(len(TRG.vocab), config.EMBED).to(DEVICE)\n",
    "sos = torch.LongTensor([2]*32).unsqueeze(1).to(DEVICE)\n",
    "dec_input = dec_embedding(sos)\n",
    "dec_input.size()"
   ]
  },
  {
   "cell_type": "markdown",
   "metadata": {},
   "source": [
    "### Attention"
   ]
  },
  {
   "cell_type": "code",
   "execution_count": 11,
   "metadata": {},
   "outputs": [],
   "source": [
    "class Attention(nn.Module):\n",
    "    \"\"\"Attention\"\"\"\n",
    "    def __init__(self, hidden_size, method='general', device='cpu'):\n",
    "        super(Attention, self).__init__()\n",
    "        \"\"\"\n",
    "        * hidden_size: decoder hidden_size(H_d=encoder_gru_direction*H)\n",
    "        methods:\n",
    "        - 'dot': dot product between hidden and encoder_outputs\n",
    "        - 'general': encoder_outputs through a linear layer \n",
    "        - 'concat': concat (hidden, encoder_outputs) ***NOT YET***\n",
    "        - 'paper': concat + tanh ***NOT YET***\n",
    "        \"\"\"\n",
    "        self.method = method\n",
    "        self.device = device\n",
    "        self.hidden_size = hidden_size \n",
    "        if self.method == 'general':\n",
    "            self.linear = nn.Linear(hidden_size, hidden_size)\n",
    "\n",
    "    def forward(self, hiddens, enc_outputs, enc_lengths=None, return_weight=False):\n",
    "        \"\"\"\n",
    "        Inputs:\n",
    "        - hiddens(previous_hiddens): B, 1, H_d\n",
    "        - enc_outputs(enc_outputs): B, T_e, H_d\n",
    "        - enc_lengths: real lengths of encoder outputs\n",
    "        - return_weight = return weights(alphas)\n",
    "        Outputs:\n",
    "        - contexts: B, 1, H_d\n",
    "        - attns: B, 1, T_e\n",
    "        \"\"\"\n",
    "        hid, out = hiddens, enc_outputs\n",
    "        # Batch(B), Seq_length(T)\n",
    "        B, T_d, H = hid.size()\n",
    "        B, T_e, H = out.size()\n",
    "        \n",
    "        score = self.get_score(hid, out)\n",
    "        # score: B, 1, T_e\n",
    "        if enc_lengths is not None:\n",
    "            mask = self.get_mask(B, T_d, T_e, enc_lengths)  # masks: B, 1, T_e\n",
    "            score = score.masked_fill(mask, float('-inf'))\n",
    "        \n",
    "        attns = torch.softmax(score, dim=2)  # attns: B, 1, T_e\n",
    "        contexts = attns.bmm(out)\n",
    "        if return_weight:\n",
    "            return contexts, attns\n",
    "        return contexts\n",
    "            \n",
    "    def get_score(self, hid, out):\n",
    "        \"\"\"\n",
    "        Inputs:\n",
    "        - hid(previous_hiddens): B, 1, H_d \n",
    "        - out(enc_outputs): B, T_e, H_d\n",
    "        Outputs:\n",
    "        - \n",
    "        \"\"\"\n",
    "        if self.method == 'dot':\n",
    "            # bmm: (B, 1, H_d) * (B, H, T_e) = (B, 1, T_e)\n",
    "            score = hid.bmm(out.transpose(1, 2))\n",
    "            return score\n",
    "        \n",
    "        elif self.method == 'general':\n",
    "            # linear: (B, T_e, H_d) > (B, T_e, H_d)\n",
    "            # bmm: (B, 1, H_d) * (B, H_d, T_e) = (B, 1, T_e)\n",
    "            score = self.linear(out)\n",
    "            score = hid.bmm(score.transpose(1, 2))\n",
    "            return score\n",
    "\n",
    "    def get_mask(self, B, T_d, T_e, lengths):\n",
    "        assert isinstance(lengths, list), \"lengths must be list type\"\n",
    "        mask = torch.zeros(B, T_d, T_e, dtype=torch.uint8).to(self.device)\n",
    "        for i, x in enumerate(lengths):\n",
    "            if x < T_e:\n",
    "                mask[i, :, x:].fill_(1)\n",
    "        return mask"
   ]
  },
  {
   "cell_type": "code",
   "execution_count": 12,
   "metadata": {},
   "outputs": [
    {
     "data": {
      "text/plain": [
       "(torch.Size([32, 1, 1024]), torch.Size([32, 1, 30]))"
      ]
     },
     "execution_count": 12,
     "metadata": {},
     "output_type": "execute_result"
    }
   ],
   "source": [
    "enc_direc = 2\n",
    "attention = Attention(enc_direc*config.HIDDEN, method='general', device=DEVICE).to(DEVICE)\n",
    "contexts, attns = attention(enc_hidden.transpose(0,1), \n",
    "                            enc_output, lengths.tolist(), return_weight=True)\n",
    "contexts.size(), attns.size()"
   ]
  },
  {
   "cell_type": "markdown",
   "metadata": {},
   "source": [
    "### Decoder model"
   ]
  },
  {
   "cell_type": "code",
   "execution_count": 13,
   "metadata": {},
   "outputs": [],
   "source": [
    "class Decoder(nn.Module):\n",
    "    \"\"\"Decoder\"\"\"\n",
    "    def __init__(self, vocab_size, embed_size, hidden_size, n_layers=1, sos_idx=2, drop_rate=0.0, layernorm=False, method='general', teacher_force=False, device='cpu', return_w=False):\n",
    "        super(Decoder, self).__init__()\n",
    "        self.vocab_size = vocab_size\n",
    "        self.n_layers = n_layers\n",
    "        self.hidden_size = hidden_size\n",
    "        self.device = device\n",
    "        self.sos_idx = sos_idx\n",
    "        self.return_w = return_w\n",
    "        self.teacher_force = teacher_force\n",
    "        self.layernorm = layernorm\n",
    "        \n",
    "        self.embedding = nn.Embedding(vocab_size, embed_size)\n",
    "        self.dropout = nn.Dropout(drop_rate)\n",
    "        self.attention = Attention(hidden_size, method=method, device=device)\n",
    "        self.gru = nn.GRU(embed_size+hidden_size, hidden_size, n_layers, bidirectional=False, \n",
    "                          batch_first=True)\n",
    "        self.linear = nn.Linear(2*hidden_size, vocab_size)\n",
    "        if layernorm:\n",
    "            self.l_norm = nn.LayerNorm(embed_size)\n",
    "    \n",
    "    def start_token(self, batch_size):\n",
    "        sos = torch.LongTensor([self.sos_idx]*batch_size).unsqueeze(1).to(self.device)\n",
    "        return sos\n",
    "    \n",
    "    def init_hiddens(self, batch_size):\n",
    "        return torch.zeros(batch_size, self.n_layers, self.hidden_size).to(self.device)\n",
    "    \n",
    "    def forward(self, hiddens, enc_output, enc_lengths=None, max_len=None, targets=None, \n",
    "                is_eval=False, is_test=False, stop_idx=3):\n",
    "        \"\"\"\n",
    "        * H_d: decoder hidden_size = encoder_gru_directions * H\n",
    "        * M_d: decoder embedding_size\n",
    "        Inputs:\n",
    "        - hiddens: last encoder hidden at time 0 = 1, B, H_d \n",
    "        - enc_output: encoder output = B, T_e, H_d\n",
    "        - enc_lengths: encoder lengths = B\n",
    "        - max_len: max lenghts of target = T_d\n",
    "        Outputs:\n",
    "        - scores: results of all predictions = B*T_d, vocab_size\n",
    "        - attn_weights: attention weight for all batches = B, T_d, T_e\n",
    "        \"\"\"\n",
    "        if is_test:\n",
    "            is_eval=True\n",
    "        inputs = self.start_token(hiddens.size(1))  # (B, 1)\n",
    "        inputs = self.embedding(inputs) # (B, 1, M_d)\n",
    "        if self.layernorm:\n",
    "            inputs = self.l_norm(inputs)\n",
    "        inputs = self.dropout(inputs)\n",
    "        # match layer size: (1, B, H_d) > (n_layers, B, H_d)\n",
    "        if hiddens.size(0) != self.n_layers:\n",
    "            hiddens = hiddens.repeat(self.n_layers, 1, 1)\n",
    "        # prepare for whole target sentence scores\n",
    "        scores = []  \n",
    "        attn_weights = []\n",
    "        for i in range(1, max_len):\n",
    "            # contexts[c{i}] = alpha(hiddens[s{i-1}], encoder_output[h])\n",
    "            # select last hidden: (1, B, H_d) > transpose: (B, 1, H_d) > attention\n",
    "            contexts = self.attention(hiddens.transpose(0, 1), enc_output, enc_lengths, \n",
    "                                      return_weight=self.return_w)\n",
    "    \n",
    "            if self.return_w:\n",
    "                attns = contexts[1]  # attns: (B, seq_len=1, T_e) \n",
    "                contexts = contexts[0]  # contexts: (B, seq_len=1, H_d)\n",
    "                attn_weights.append(attns)\n",
    "                \n",
    "            # gru_inputs = concat(embeded_token[y{i-1}], contexts[c{i}]): (B, seq_len=1, H_d+M_d)\n",
    "            gru_inputs = torch.cat((inputs, contexts), 2)\n",
    "            \n",
    "            # gru: s{i} = f(gru_inputs, s{i-1})\n",
    "            # (B, 1, M_d+H_d) > (n_layers, B, H_d)\n",
    "            _, hiddens = self.gru(gru_inputs, hiddens)            \n",
    "            \n",
    "            # scores = g(s{i}, c{i})\n",
    "            # select last hidden: (1, B, H_d) > transpose: (B, 1, H_d) > concat: (B, 1, H_d + H_d) >\n",
    "            # output linear : (B, seq_len=1, vocab_size)\n",
    "            score = self.linear(torch.cat((hiddens.transpose(0, 1), contexts), 2))\n",
    "            scores.append(score)\n",
    "    \n",
    "            if (self.teacher_force and not is_eval):\n",
    "                selected_targets = targets[:, i].unsqueeze(1)\n",
    "            else:\n",
    "                selected_targets = None\n",
    "            \n",
    "            inputs, stop_decode = self.decode(is_tf=self.teacher_force, \n",
    "                                              is_eval=is_eval,\n",
    "                                              is_test=is_test,\n",
    "                                              score=score, \n",
    "                                              targets=selected_targets, \n",
    "                                              stop_idx=stop_idx)\n",
    "            if stop_decode:\n",
    "                break\n",
    "            \n",
    "        scores = torch.cat(scores, 1).view(-1, self.vocab_size)  # (B, T_d, vocab_size) > (B*T_d, vocab_size)\n",
    "        if self.return_w:\n",
    "            return scores, torch.cat(attn_weights, 1)  # (B, T_d, T_e)\n",
    "        return scores\n",
    "    \n",
    "    def decode(self, is_tf, is_eval, is_test, score, targets, stop_idx):\n",
    "        \"\"\"\n",
    "        - for validation: if is_tf, set 'is_eval' True, else False\n",
    "        - for test evaluation: set 'is_tf' False and set 'is_eval' True\n",
    "        \"\"\"\n",
    "        stop_decode = False\n",
    "        if is_test:\n",
    "            # test\n",
    "            preds = score.max(2)[1]\n",
    "            if preds.view(-1).item() == stop_idx:\n",
    "                stop_decode = True\n",
    "            inputs = self.embedding(preds)\n",
    "        else:\n",
    "            # train & valid\n",
    "            if is_tf and not is_eval:\n",
    "                assert targets is not None, \"target must not be None in teacher force mode\"\n",
    "                inputs = self.embedding(targets)\n",
    "            else:\n",
    "                preds = score.max(2)[1]\n",
    "                inputs = self.embedding(preds)\n",
    "\n",
    "        if self.layernorm:\n",
    "            inputs = self.l_norm(inputs)\n",
    "        inputs = self.dropout(inputs)\n",
    "        return inputs, stop_decode"
   ]
  },
  {
   "cell_type": "code",
   "execution_count": 20,
   "metadata": {},
   "outputs": [],
   "source": [
    "decoder = Decoder(len(TRG.vocab), config.EMBED, encoder.n_direction*config.HIDDEN, n_layers=config.DEC_N_LAYER,\n",
    "                  drop_rate=config.DROP_RATE, method=config.METHOD, layernorm=config.L_NORM, \n",
    "                  sos_idx=TRG.vocab.stoi['<s>'], teacher_force=config.TF, \n",
    "                  return_w=config.RETURN_W, device=DEVICE).to(DEVICE)"
   ]
  },
  {
   "cell_type": "code",
   "execution_count": 21,
   "metadata": {},
   "outputs": [
    {
     "data": {
      "text/plain": [
       "torch.Size([992, 41652])"
      ]
     },
     "execution_count": 21,
     "metadata": {},
     "output_type": "execute_result"
    }
   ],
   "source": [
    "o= decoder(hiddens=enc_hidden, enc_output=enc_output, max_len=targets.size(1),\n",
    "               targets=targets)\n",
    "o.size()"
   ]
  },
  {
   "cell_type": "markdown",
   "metadata": {},
   "source": [
    "---"
   ]
  },
  {
   "cell_type": "code",
   "execution_count": 14,
   "metadata": {},
   "outputs": [],
   "source": [
    "# loss_function = nn.NLLLoss(ignore_index=TRG.vocab.stoi['<pad>'])\n",
    "loss_function = nn.CrossEntropyLoss(ignore_index=TRG.vocab.stoi['<pad>'])\n",
    "\n",
    "enc_optimizer = optim.Adam(encoder.parameters(), \n",
    "                               lr=config.LR, \n",
    "                               weight_decay=config.LAMBDA)\n",
    "dec_optimizer = optim.Adam(decoder.parameters(), \n",
    "                           lr=config.LR * config.DECLR, \n",
    "                           weight_decay=config.LAMBDA)\n",
    "enc_scheduler = optim.lr_scheduler.MultiStepLR(gamma=0.1,\n",
    "                                               milestones=[int(config.STEP / 4), \n",
    "                                                           int(config.STEP / 2),\n",
    "                                                           int(3 * config.STEP / 4)],\n",
    "                                               optimizer=enc_optimizer)\n",
    "dec_scheduler = optim.lr_scheduler.MultiStepLR(gamma=0.1,\n",
    "                                               milestones=[int(config.STEP / 4), \n",
    "                                                           int(config.STEP / 2),\n",
    "                                                           int(3 * config.STEP / 4)],\n",
    "                                               optimizer=dec_optimizer)"
   ]
  },
  {
   "cell_type": "code",
   "execution_count": 15,
   "metadata": {},
   "outputs": [
    {
     "data": {
      "text/plain": [
       "tensor(10.6426, grad_fn=<NllLossBackward>)"
      ]
     },
     "execution_count": 15,
     "metadata": {},
     "output_type": "execute_result"
    }
   ],
   "source": [
    "loss = loss_function(o, targets[:, 1:].contiguous().view(-1))\n",
    "loss"
   ]
  },
  {
   "cell_type": "code",
   "execution_count": 56,
   "metadata": {},
   "outputs": [],
   "source": [
    "def run_step(enc, dec, loader, loss_function, enc_optimizer, dec_optimizer):\n",
    "    enc.train()\n",
    "    dec.train()\n",
    "    losses = []\n",
    "    for i, batch in enumerate(loader):\n",
    "        inputs, lengths = batch.src\n",
    "        targets = batch.trg\n",
    "\n",
    "        enc.zero_grad()\n",
    "        dec.zero_grad()\n",
    "        \n",
    "        enc_output, enc_hidden = enc(inputs, lengths.tolist())\n",
    "        outputs = dec(enc_hidden, enc_output, lengths.tolist(), \n",
    "                      targets.size(1), targets, is_eval=False)\n",
    "        loss = loss_function(outputs, targets[:, 1:].contiguous().view(-1))\n",
    "        losses.append(loss.item())\n",
    "        loss.backward()\n",
    "        \n",
    "        torch.nn.utils.clip_grad_norm_(enc.parameters(), 50.0)  # gradient clipping\n",
    "        torch.nn.utils.clip_grad_norm_(dec.parameters(), 50.0)  # gradient clipping\n",
    "        \n",
    "        enc_optimizer.step()\n",
    "        dec_optimizer.step()\n",
    "        print(' > [{}/{}] train_loss {:.4f}'.format(i, len(loader), loss.item()))\n",
    "    return np.mean(losses)"
   ]
  },
  {
   "cell_type": "code",
   "execution_count": 57,
   "metadata": {},
   "outputs": [
    {
     "name": "stdout",
     "output_type": "stream",
     "text": [
      " > [0/11839] train_loss 10.3431\n"
     ]
    },
    {
     "data": {
      "text/plain": [
       "10.34306812286377"
      ]
     },
     "execution_count": 57,
     "metadata": {},
     "output_type": "execute_result"
    }
   ],
   "source": [
    "run_step(encoder, decoder, train_loader, loss_function, enc_optimizer, dec_optimizer)"
   ]
  },
  {
   "cell_type": "markdown",
   "metadata": {},
   "source": [
    "---"
   ]
  },
  {
   "cell_type": "code",
   "execution_count": 1,
   "metadata": {},
   "outputs": [],
   "source": [
    "import sys\n",
    "import os\n",
    "sys.path.append(os.getcwd() + '/model')\n",
    "import torch\n",
    "import numpy as np\n",
    "import matplotlib.pylab as plt \n",
    "import matplotlib.ticker as ticker\n",
    "import settings\n",
    "from train import import_data, build_model, validation, build_config_file\n",
    "from torch.nn.utils.rnn import pack_padded_sequence, pad_packed_sequence\n",
    "# DEVICE = 'cuda' if config.USE_CUDA else 'cpu'\n",
    "DEVICE = None"
   ]
  },
  {
   "cell_type": "code",
   "execution_count": 2,
   "metadata": {},
   "outputs": [
    {
     "name": "stdout",
     "output_type": "stream",
     "text": [
      "Source Language: 40781 words, Target Language: 26320 words\n",
      "Training Examples: 160477, Validation Examples: 776\n",
      "Building Model ...\n"
     ]
    }
   ],
   "source": [
    "SRC, TRG, train, _, test, _, _, test_loader = import_data(config=settings, device=DEVICE, is_test=True)\n",
    "enc, dec, loss_function, *_ = build_model(config=settings, src_field=SRC, trg_field=TRG, device=DEVICE)"
   ]
  },
  {
   "cell_type": "code",
   "execution_count": 3,
   "metadata": {},
   "outputs": [],
   "source": [
    "enc.load_state_dict(torch.load(settings.SAVE_ENC_PATH))\n",
    "dec.load_state_dict(torch.load(settings.SAVE_DEC_PATH))"
   ]
  },
  {
   "cell_type": "code",
   "execution_count": 4,
   "metadata": {},
   "outputs": [
    {
     "name": "stdout",
     "output_type": "stream",
     "text": [
      "test loss is 5.9735\n"
     ]
    }
   ],
   "source": [
    "# set TF to False when testing\n",
    "print(\"test loss is {:.4f}\".format(validation(settings, enc, dec, test_loader, loss_function)))"
   ]
  },
  {
   "cell_type": "code",
   "execution_count": 5,
   "metadata": {},
   "outputs": [],
   "source": [
    "def evaluate(test_data, max_len, src_field, trg_field, stop_token='</s>'):\n",
    "    f = lambda x: trg_field.vocab.itos[x]\n",
    "    test_ex = np.random.choice(test_data.examples)\n",
    "    src_sent = test_ex.src\n",
    "    trg_sent = test_ex.trg\n",
    "    inputs, lengths = src_field.numericalize(([src_sent], [len(src_sent)]))\n",
    "    enc_output, enc_hidden = enc(inputs, lengths.tolist())\n",
    "    outputs, attns = dec.forward(enc_hidden, enc_output, lengths.tolist(), max_len, \n",
    "                                 targets=None, is_test=True, \n",
    "                                 stop_idx=trg_field.vocab.stoi[stop_token])\n",
    "    preds = outputs.max(1)[1]\n",
    "    translated = list(map(f, preds.tolist()))\n",
    "    \n",
    "    print(\" < input: {}\".format(' '.join(src_sent)))\n",
    "    print(\" > target: {}\".format(' '.join(trg_sent)))\n",
    "    print(\" > predict: {}\".format(' '.join(translated[:-1])))\n",
    "    return attns.squeeze(0).detach(), (src_sent, trg_sent, translated)"
   ]
  },
  {
   "cell_type": "code",
   "execution_count": 6,
   "metadata": {},
   "outputs": [],
   "source": [
    "def show_attention(input_sentence, output_words, attentions):\n",
    "    # Set up figure with colorbar\n",
    "    fig = plt.figure()\n",
    "    ax = fig.add_subplot(111)\n",
    "    cax = ax.matshow(attentions.numpy(), cmap='bone')\n",
    "    fig.colorbar(cax)\n",
    "\n",
    "    # Set up axes\n",
    "    ax.set_xticklabels([''] + input_sentence + ['</s>'], rotation=90)\n",
    "    ax.set_yticklabels([''] + output_words)\n",
    "\n",
    "    # Show label at every tick\n",
    "    ax.xaxis.set_major_locator(ticker.MultipleLocator(1))\n",
    "    ax.yaxis.set_major_locator(ticker.MultipleLocator(1))\n",
    "\n",
    "    plt.show()\n",
    "    plt.close()"
   ]
  },
  {
   "cell_type": "code",
   "execution_count": 17,
   "metadata": {},
   "outputs": [
    {
     "name": "stdout",
     "output_type": "stream",
     "text": [
      " < input: und drittens benötigt man begeisterung .\n",
      " > target: and third , you need desire .\n",
      " > predict: and third need you need to go .\n"
     ]
    }
   ],
   "source": [
    "attns, pairs = evaluate(train, settings.MAX_LEN, src_field=SRC, trg_field=TRG, stop_token='</s>')"
   ]
  },
  {
   "cell_type": "code",
   "execution_count": 18,
   "metadata": {},
   "outputs": [
    {
     "data": {
      "image/png": "[encoded data removed]",
      "text/plain": [
       "<Figure size 432x288 with 2 Axes>"
      ]
     },
     "metadata": {},
     "output_type": "display_data"
    }
   ],
   "source": [
    "show_attention(input_sentence=pairs[0], output_words=pairs[2], attentions=attns)"
   ]
  },
  {
   "cell_type": "code",
   "execution_count": 21,
   "metadata": {},
   "outputs": [],
   "source": [
    "def eval_showattns(test_data, max_len, src_field, trg_field, stop_token='</s>'):\n",
    "    attns, pairs = evaluate(test_data, max_len, src_field=src_field, trg_field=trg_field, stop_token=stop_token)\n",
    "    show_attention(input_sentence=pairs[0], output_words=pairs[2], attentions=attns)"
   ]
  },
  {
   "cell_type": "code",
   "execution_count": 24,
   "metadata": {
    "scrolled": false
   },
   "outputs": [
    {
     "name": "stdout",
     "output_type": "stream",
     "text": [
      " < input: sie hatten nie wirklich darüber nachgedacht , ein unternehmen zu gründen .\n",
      " > target: they had never really thought about starting up a business .\n",
      " > predict: they never really thought about a good job .\n"
     ]
    },
    {
     "data": {
      "image/png": "[encoded data removed]",
      "text/plain": [
       "<Figure size 432x288 with 2 Axes>"
      ]
     },
     "metadata": {},
     "output_type": "display_data"
    }
   ],
   "source": [
    "eval_showattns(test, settings.MAX_LEN, SRC, TRG)"
   ]
  },
  {
   "cell_type": "code",
   "execution_count": 27,
   "metadata": {},
   "outputs": [],
   "source": [
    "import torch.optim as optim"
   ]
  },
  {
   "cell_type": "code",
   "execution_count": null,
   "metadata": {},
   "outputs": [],
   "source": [
    "optim.Adadelta()"
   ]
  }
 ],
 "metadata": {
  "kernelspec": {
   "display_name": "Python 3",
   "language": "python",
   "name": "python3"
  },
  "language_info": {
   "codemirror_mode": {
    "name": "ipython",
    "version": 3
   },
   "file_extension": ".py",
   "mimetype": "text/x-python",
   "name": "python",
   "nbconvert_exporter": "python",
   "pygments_lexer": "ipython3",
   "version": "3.6.5"
  }
 },
 "nbformat": 4,
 "nbformat_minor": 2
}
